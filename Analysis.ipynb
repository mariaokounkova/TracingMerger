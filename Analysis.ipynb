{
 "cells": [
  {
   "cell_type": "code",
   "execution_count": null,
   "metadata": {
    "code_folding": [
     0
    ]
   },
   "outputs": [],
   "source": [
    "#%matplotlib qt\n",
    "\n",
    "## imports\n",
    "import matplotlib.pyplot as plt\n",
    "from matplotlib import rc\n",
    "import numpy as np\n",
    "import matplotlib\n",
    "from matplotlib import cm\n",
    "import h5py\n",
    "import os\n",
    "from math import pi, sqrt\n",
    "from scipy.optimize import curve_fit\n",
    "import scipy\n",
    "import seaborn as sns\n",
    "from mpl_toolkits.mplot3d import Axes3D\n",
    "import time\n",
    "\n",
    "rc('text', usetex=True)\n",
    "\n",
    "# Plot parameters\n",
    "matplotlib.rcParams['mathtext.fontset'] = 'stix'\n",
    "matplotlib.rcParams['font.family'] = 'STIXGeneral'\n",
    "matplotlib.rcParams['axes.labelsize'] = 24\n",
    "matplotlib.rcParams['xtick.labelsize'] = 30\n",
    "matplotlib.rcParams['ytick.labelsize'] = 30\n",
    "matplotlib.rcParams['xtick.major.size'] = 20\n",
    "matplotlib.rcParams['ytick.major.size'] = 20\n",
    "matplotlib.rcParams['xtick.top'] = True\n",
    "matplotlib.rcParams['xtick.direction'] = 'in'\n",
    "matplotlib.rcParams['xtick.minor.visible'] = True\n",
    "matplotlib.rcParams['xtick.minor.size'] = 10\n",
    "matplotlib.rcParams['ytick.minor.size'] = 10\n",
    "matplotlib.rcParams['legend.fontsize'] = 18\n",
    "matplotlib.rcParams['legend.frameon'] = True\n",
    "matplotlib.rcParams['lines.linewidth'] = 3\n"
   ]
  },
  {
   "cell_type": "markdown",
   "metadata": {},
   "source": [
    "## Read and plot GW data"
   ]
  },
  {
   "cell_type": "code",
   "execution_count": null,
   "metadata": {
    "code_folding": [
     0
    ]
   },
   "outputs": [],
   "source": [
    "## Data reading functions\n",
    "\n",
    "def GetWaveformRadius(p, rad):\n",
    "    psi4_file = p + 'GW2/rPsi4_FiniteRadii_CodeUnits.h5'\n",
    "    f = h5py.File(psi4_file, 'r')\n",
    "    radius = sorted(f.keys())[rad]\n",
    "    coord_radius = f[radius]['CoordRadius.dat'][0][1]\n",
    "    return coord_radius\n",
    "    \n",
    "def GetPsi4Mode(p, mode, radius=-1): \n",
    "    ## which finite radius should we use?\n",
    "    l = mode[0]\n",
    "    m = mode[1]\n",
    "    psi4_file = p + 'GW2/rPsi4_FiniteRadii_CodeUnits.h5' \n",
    "    f = h5py.File(psi4_file, 'r')\n",
    "    radius = sorted(f.keys())[radius]\n",
    "    data = f[radius]['Y_l' + str(l) + '_m'  + str(m) + '.dat']\n",
    "    time, re, im = data[:,0], data[:,1], data[:,2]\n",
    "    Psi4 = re + 1j*im\n",
    "    return time, Psi4\n",
    "\n",
    "def GetStrainMode(p, mode, radius=-1): \n",
    "    ## which finite radius should we use?\n",
    "    l = mode[0]\n",
    "    m = mode[1]\n",
    "    psi4_file = p + 'GW2/rh_FiniteRadii_CodeUnits.h5' \n",
    "    f = h5py.File(psi4_file, 'r')\n",
    "    radius = sorted(f.keys())[radius]\n",
    "    data = f[radius]['Y_l' + str(l) + '_m'  + str(m) + '.dat']\n",
    "    time, re, im = data[:,0], data[:,1], data[:,2]\n",
    "    Psi4 = re + 1j*im\n",
    "    return time, Psi4\n",
    "\n",
    "def GetPsi4ModeExtrapolated(p, mode, order=2): \n",
    "    l = mode[0]\n",
    "    m = mode[1]\n",
    "    psi4_file = p + 'rMPsi4_Asymptotic_GeometricUnits.h5' \n",
    "    f = h5py.File(psi4_file, 'r')\n",
    "    data = f['Extrapolated_N' + str(order) +'.dir']['Y_l' + str(l) + '_m'  + str(m) + '.dat']\n",
    "    time, re, im = data[:,0], data[:,1], data[:,2]\n",
    "    Psi4 = re + 1j*im\n",
    "    return time, Psi4\n",
    "\n",
    "def GetStrainModeExtrapolated(p, mode, order=2): \n",
    "    l = mode[0]\n",
    "    m = mode[1]\n",
    "    h_file = p + 'rhOverM_Asymptotic_GeometricUnits.h5' \n",
    "    f = h5py.File(h_file, 'r')\n",
    "    data = f['Extrapolated_N'+str(order)+'.dir']['Y_l' + str(l) + '_m'  + str(m) + '.dat']\n",
    "    time, re, im = data[:,0], data[:,1], data[:,2]\n",
    "    h = re + 1j*im\n",
    "    return time, h"
   ]
  },
  {
   "cell_type": "code",
   "execution_count": null,
   "metadata": {
    "code_folding": [
     0
    ]
   },
   "outputs": [],
   "source": [
    "## Data helper functions\n",
    "\n",
    "def CutTimes(time, data, TLow, TUp): ###\n",
    "    TLowIndex = np.where(time >= TLow)[0][0]\n",
    "    TUpIndex = np.where(time <= TUp)[0][-1]\n",
    "    time = time[TLowIndex:TUpIndex]\n",
    "    data = data[TLowIndex:TUpIndex]\n",
    "    return time, data\n",
    "\n",
    "def GetPeakTimeMode(time, data): ###\n",
    "    ## Peak time being the peak of the magnitude of the data\n",
    "    t_peak = time[np.argmax(np.absolute(data))]\n",
    "    return t_peak\n",
    "\n",
    "def GetPeakTimeModeReal(time, data): ###\n",
    "    ## Peak time being the peak of the magnitude of the data\n",
    "    t_peak = time[np.argmax(np.real(data))]\n",
    "    return t_peak\n",
    "\n",
    "def SubtractPeakTimeMode(time, data): ###\n",
    "    t_peak = GetPeakTimeMode(time, data)\n",
    "    return time - t_peak\n",
    "\n",
    "def SubtractPeakTimeModeReal(time, data): ###\n",
    "    t_peak = GetPeakTimeModeReal(time, data)\n",
    "    return time - t_peak\n",
    "\n",
    "def InterpolateTimes(time, data, time_dest):\n",
    "    \"\"\" Interpolates time, data onto new time axis\n",
    "        time_dest \"\"\"\n",
    "    interpolant = scipy.interpolate.CubicSpline(time, data)\n",
    "    return interpolant(time_dest)"
   ]
  },
  {
   "cell_type": "code",
   "execution_count": null,
   "metadata": {
    "code_folding": [
     0
    ]
   },
   "outputs": [],
   "source": [
    "## Plot strain at various radii\n",
    "\n",
    "def PlotRadiiStrain(p):\n",
    "    ## Run Progress\n",
    "    plt.figure(figsize=(14, 8))\n",
    "\n",
    "    mode = (2,2)\n",
    "    \n",
    "    radii = [0, 15, 20, 22, 23]\n",
    "    cs = sns.color_palette('husl', n_colors=len(radii))\n",
    "\n",
    "    for rad, i in zip(radii, range(len(radii))):\n",
    "\n",
    "        radius = int(GetWaveformRadius(p, rad))\n",
    "        \n",
    "        time, data = GetStrainMode(p, mode, radius=rad)\n",
    "        tt = GetPeakTimeMode(time, data)\n",
    "        \n",
    "        plt.plot(time, np.real(data), label='%.1f, %.1f' % (radius, tt), color=cs[i])\n",
    "\n",
    "    plt.xlabel(r'Coodinate time $t/M$')\n",
    "    plt.ylabel(r'$rh$' + str(mode), fontsize=30)\n",
    "    legend = plt.legend(loc='lower right', title='Extraction radius, peak time', fontsize=20, framealpha=1.0)\n",
    "    plt.setp(legend.get_title(),fontsize=20)\n",
    "    plt.xlim(-10, 900)\n",
    "    plt.tight_layout()\n",
    "    plt.savefig('RadiiPeaks.pdf')\n",
    "    plt.show()\n",
    "    \n",
    "#PlotRadiiStrain('Data/HeadOn/JoinedLev1/')\n",
    "PlotRadiiStrain('Data/HeadOn_Harmonic/JoinedLev1/')"
   ]
  },
  {
   "cell_type": "markdown",
   "metadata": {},
   "source": [
    "## Plot lensing refinement method results + final positions"
   ]
  },
  {
   "cell_type": "code",
   "execution_count": null,
   "metadata": {
    "code_folding": [
     0
    ]
   },
   "outputs": [],
   "source": [
    "## Plot the vanilla SpEC lensing run results\n",
    "\n",
    "def PlotRefinementMethodResult(p):\n",
    "    \n",
    "    \"\"\" Print the results of the vanilla lensing run. For the file structure, we have\n",
    "    Geo's final time,\n",
    "    Geo's final position x,\n",
    "    Geo's final position y,\n",
    "    Geo's final position z,\n",
    "    Geo's final 4-momentum t (roughly, redshift),\n",
    "    Geo's final 4-momentum x,\n",
    "    Geo's final 4-momentum y,\n",
    "    Geo's final 4-momentum z\"\"\"\n",
    "    \n",
    "    \n",
    "    file = p + '/RefinementMethodData.h5'\n",
    "    f = h5py.File(file, 'r')\n",
    "    data = f['GeodesicFinalVars.dat']\n",
    "    \n",
    "    x_positions = data[:,1]\n",
    "    y_positions = data[:,2]\n",
    "    z_positions = data[:,3]\n",
    "    \n",
    "    plt.figure(figsize=(10, 10))\n",
    "    \n",
    "    plt.scatter(y_positions, z_positions, color='red', s=10)\n",
    "    #plt.xlim(-5.0, 5.0)\n",
    "    #plt.ylim(-5.0, 5.0)\n",
    "\n",
    "    plt.xlabel(r'Camera X')\n",
    "    plt.ylabel(r'Camera Y')\n",
    "    plt.tight_layout()\n",
    "    plt.savefig('Camera.pdf')\n",
    "    plt.show()\n",
    "    \n",
    "PlotRefinementMethodResult('Data/Kerr')"
   ]
  },
  {
   "cell_type": "code",
   "execution_count": null,
   "metadata": {
    "code_folding": [
     0
    ]
   },
   "outputs": [],
   "source": [
    "## Plot the vanilla SpEC lensing run results\n",
    "\n",
    "def Plot3DFinalPositions(p):\n",
    "    \n",
    "    \"\"\" Print the results of the vanilla lensing run. For the file structure, we have\n",
    "    Geo's final time,\n",
    "    Geo's final position x,\n",
    "    Geo's final position y,\n",
    "    Geo's final position z,\n",
    "    Geo's final 4-momentum t (roughly, redshift),\n",
    "    Geo's final 4-momentum x,\n",
    "    Geo's final 4-momentum y,\n",
    "    Geo's final 4-momentum z\"\"\"\n",
    "\n",
    "    plt.rcParams['grid.linewidth'] = 0.25\n",
    "    \n",
    "    file = p + '/RefinementMethodData.h5'\n",
    "    f = h5py.File(file, 'r')\n",
    "    data = f['GeodesicFinalVars.dat']\n",
    "    \n",
    "    x_pos = data[:,1]\n",
    "    y_pos = data[:,2]\n",
    "    z_pos = data[:,3]\n",
    "    \n",
    "    fig = plt.figure(figsize=(12,12))\n",
    "    ax = fig.add_subplot(111, projection='3d')\n",
    "    ax.w_xaxis.set_pane_color((1.0, 1.0, 1.0, 1.0))\n",
    "    ax.w_yaxis.set_pane_color((1.0, 1.0, 1.0, 1.0))\n",
    "    ax.w_zaxis.set_pane_color((1.0, 1.0, 1.0, 1.0))\n",
    "    \n",
    "    ax.scatter(x_pos, y_pos, z_pos, color='red', s=10)\n",
    "    ax.scatter([0.0], [0.0], [100.0], color='black', s = 100)\n",
    "    ax.quiver([0.0], [0.0], [100.0], [0.0], [0.0], [-10.0], length=20.0, normalize=True, color='black')\n",
    "    \n",
    "    ax.set_xlabel('Camera X',labelpad=20)\n",
    "    ax.set_ylabel('Camera Y', labelpad=20)\n",
    "    ax.set_zlabel('Camera Z', labelpad=20)\n",
    "    plt.tight_layout()\n",
    "    plt.savefig('Positions.pdf')\n",
    "    plt.show()\n",
    "    \n",
    "Plot3DFinalPositions('Data/Kerr')\n"
   ]
  },
  {
   "cell_type": "markdown",
   "metadata": {},
   "source": [
    "## Read in horizon data, geodesic trajectories"
   ]
  },
  {
   "cell_type": "code",
   "execution_count": null,
   "metadata": {
    "code_folding": [
     0
    ]
   },
   "outputs": [],
   "source": [
    "## Read in horizon trajectories\n",
    "\n",
    "def read_horizon_trajectories(Horizon):\n",
    "    \"\"\" Horizon is a string corresponding to the BH we're interested in [A, B, C]\"\"\"\n",
    "    f = \"Data/AH/Trajectory_Ah\" + Horizon + \".dat\"\n",
    "    t, x, y, z = np.loadtxt(f, comments=\"#\",usecols=([0,1,2,3]),unpack=True)\n",
    "    return t, x, y, z"
   ]
  },
  {
   "cell_type": "code",
   "execution_count": null,
   "metadata": {
    "code_folding": [
     0
    ]
   },
   "outputs": [],
   "source": [
    "## Functions for reading geodesic positions over time from NodeX.h5 files\n",
    "\n",
    "def read_geodesic_data(p):\n",
    "    \"\"\" Read in an array of times and positions for all geodesics at once\"\"\"\n",
    "        \n",
    "    file = p + '/Node0.h5'\n",
    "    f = h5py.File(file, 'r')\n",
    "    ## grab the .dat files\n",
    "    keys = [k for k in f.keys() if 'dat' in k]\n",
    "    ## Array of times from the .dat files\n",
    "    times = [float(k.split('.dat')[0]) for k in keys]\n",
    "    ## sort keys according to times\n",
    "    times, keys = zip(*sorted(zip(times, keys)))\n",
    "    times = times[::-1]\n",
    "    keys = keys[::-1]\n",
    "    ## grab the number of geodesics\n",
    "    N_geodesics = len(f[keys[0]][:,0])\n",
    "    print(\"Total geodesics: \", N_geodesics, \"Time steps: \", len(times))\n",
    "    ## Minimum index\n",
    "    m = int(f[keys[0]][:,0][0])\n",
    "    print(\"Minimum index of this refinement iteration: \", m)\n",
    "    \n",
    "    X = [ [] for _ in range(N_geodesics)]\n",
    "    Y = [ [] for _ in range(N_geodesics)]\n",
    "    Z = [ [] for _ in range(N_geodesics)]\n",
    "    T = [ [] for _ in range(N_geodesics)]\n",
    "    \n",
    "    for k, t in zip(keys, times):\n",
    "        data = f[k]\n",
    "        ## indices and positions for all geodesics at this time\n",
    "        indices = data[:,0]\n",
    "        x = data[:,5]\n",
    "        y = data[:,6]\n",
    "        z = data[:,7]\n",
    "        ## fill in the array for each index\n",
    "        for i, j in zip(indices.astype(int), range(len(indices))):\n",
    "            X[i-1-m] = np.append(X[i-1-m], x[j])\n",
    "            Y[i-1-m] = np.append(Y[i-1-m], y[j])\n",
    "            Z[i-1-m] = np.append(Z[i-1-m], z[j])\n",
    "            T[i-1-m] = np.append(T[i-1-m], t)\n",
    "            \n",
    "    return T, X, Y, Z\n",
    "\n",
    "def grab_geodesic_data(a, T, X, Y, Z):\n",
    "\n",
    "    x = X[a]\n",
    "    y = Y[a]\n",
    "    z = Z[a]\n",
    "    t = T[a]\n",
    "    return t, x, y, z"
   ]
  },
  {
   "cell_type": "code",
   "execution_count": null,
   "metadata": {
    "code_folding": [
     0
    ]
   },
   "outputs": [],
   "source": [
    "## Functions for reading GetTrajectoriesFromH5 output\n",
    "def ReadGetTrajectoriesFromH5(p, n):\n",
    "    \"\"\" Read in the post-processed trajectory for the nth geodesic \"\"\"\n",
    "    f = p + '/Trajectories/' + str(n) + '.dat'\n",
    "    t, x, y, z = np.loadtxt(f, comments=\"#\",usecols=([0,5,6,7]),unpack=True)\n",
    "    return t, x, y, z\n",
    "\n",
    "def ReadRedshiftGetTrajectoriesFromH5(p, n):\n",
    "    \"\"\" Read in the post-processed trajectory for the nth geodesic, \n",
    "        also output the redshift \"\"\"\n",
    "    f = p + '/Trajectories/' + str(n) + '.dat'\n",
    "    t, p0, x, y, z = np.loadtxt(f, comments=\"#\",usecols=([0,1,5,6,7]),unpack=True)\n",
    "    return t, p0, x, y, z"
   ]
  },
  {
   "cell_type": "markdown",
   "metadata": {},
   "source": [
    "## Plot geodesic trajectories and redshifts"
   ]
  },
  {
   "cell_type": "code",
   "execution_count": null,
   "metadata": {
    "code_folding": [
     0
    ]
   },
   "outputs": [],
   "source": [
    "## Plot the trajectories obtained from the GetTrajectoriesFromH5 executable\n",
    "\n",
    "def PlotGetTrajectoriesFromH5(p, figname):\n",
    "    \n",
    "    t_start = time.perf_counter()\n",
    "     \n",
    "    fig = plt.figure(figsize=(12,12))\n",
    "    ax = fig.add_subplot(111, projection='3d')\n",
    "    \n",
    "    for n in np.arange(0, 990, 1):\n",
    "        t, p0, x, y, z = ReadRedshiftGetTrajectoriesFromH5(p, n)\n",
    "        r2min = min(x**2 + y**2 + z**2)\n",
    "        if (r2min < 50 and max(p0) > 2):\n",
    "            ax.plot(x, y, z, lw=0.5, color='black')\n",
    "    \n",
    "    ## Add in the horizons\n",
    "    for horizon in [\"A\", \"B\", \"C\"]:\n",
    "        t, x, y, z = read_horizon_trajectories(horizon)\n",
    "        plt.plot(x, y, z, label=\"AH \" + horizon)\n",
    "        \n",
    "    #ax.scatter([0.0], [0.0], [0.0], color='red', s =100, marker='+')\n",
    "    ax.set_xlabel('Camera X',labelpad=20)\n",
    "    ax.set_ylabel('Camera Y', labelpad=20)\n",
    "    ax.set_zlabel('Camera Z', labelpad=20)\n",
    "    ax.set_xlim(-10, 10)\n",
    "    ax.set_ylim(-10, 10)\n",
    "    ax.set_zlim(-10, 10)\n",
    "    \n",
    "    ## Plot sphere\n",
    "    #R = 100\n",
    "    #u, v = np.mgrid[0:2*np.pi:100j, 0:np.pi:100j]\n",
    "    #x = R*np.cos(u)*np.sin(v)\n",
    "    #y = R*np.sin(u)*np.sin(v)\n",
    "    #z = R*np.cos(v)\n",
    "    #ax.plot_wireframe(x, y, z, color=\"b\", linewidth=0.1)\n",
    "    \n",
    "    plt.legend()\n",
    "    plt.tight_layout()\n",
    "    plt.savefig('Histories_' + figname + '.pdf')\n",
    "    plt.show()\n",
    "    \n",
    "    t_end = time.perf_counter()\n",
    "    print(t_start - t_end)\n",
    "\n",
    "\n",
    "#PlotGetTrajectoriesFromH5('Data/HeadOn_50/', 'HeadOn_50')\n",
    "PlotGetTrajectoriesFromH5('Data/HeadOn_0/', 'HeadOn_0')"
   ]
  },
  {
   "cell_type": "code",
   "execution_count": null,
   "metadata": {
    "code_folding": [
     0
    ]
   },
   "outputs": [],
   "source": [
    "## Plot redshift with time\n",
    "def PlotRedshiftsGetTrajectoriesFromH5Time(p, figname):\n",
    "     \n",
    "    fig = plt.figure(figsize=(12,12))\n",
    "    #ax = fig.add_subplot(111, projection='3d')\n",
    "    \n",
    "    redshifts = []\n",
    "    rmins = []\n",
    "    for n in np.arange(0, 1000, 1):\n",
    "        t, p0, x, y, z = ReadRedshiftGetTrajectoriesFromH5(p, n)\n",
    "        r2min = min(x**2 + y**2 + z**2)\n",
    "        t = t - 269.7\n",
    "        plt.plot(t, p0, color='black', lw=0.5)\n",
    "    \n",
    "    plt.scatter(rmins, redshifts)\n",
    "    plt.xlabel('Time (geodesics going backwards in time)')\n",
    "    plt.ylabel('Maximum $p_0$ (column [1] the .dat file)')\n",
    "    plt.tight_layout()\n",
    "    plt.savefig('Redshifts_' + figname + '.pdf')\n",
    "    plt.yscale('log')\n",
    "    plt.show()\n",
    "    \n",
    "    \n",
    "PlotRedshiftsGetTrajectoriesFromH5Time('Data/HeadOn_50/', 'HeadOn_50')"
   ]
  },
  {
   "cell_type": "code",
   "execution_count": null,
   "metadata": {
    "code_folding": [
     0
    ]
   },
   "outputs": [],
   "source": [
    "## Plot redshift versus min radius \n",
    "def PlotRedshiftsGetTrajectoriesFromH5(p, figname):\n",
    "     \n",
    "    fig = plt.figure(figsize=(8,5))\n",
    "    #ax = fig.add_subplot(111, projection='3d')\n",
    "    \n",
    "    redshifts = []\n",
    "    rmins = []\n",
    "    for n in np.arange(0, 1000, 1):\n",
    "        t, p0, x, y, z = ReadRedshiftGetTrajectoriesFromH5(p, n)\n",
    "        r2min = min(x**2 + y**2 + z**2)\n",
    "        if (r2min < 100):\n",
    "            redshifts.append(max(p0))\n",
    "            rmins.append(sqrt(r2min))\n",
    "        #t = t - 269.7\n",
    "        #plt.plot(t, p0, color='black', lw=0.5)\n",
    "    \n",
    "    plt.scatter(rmins, redshifts, color='black')\n",
    "    plt.xlabel('Minimum radius')\n",
    "    plt.ylabel('Maximum $p_0$')\n",
    "    plt.tight_layout()\n",
    "    plt.savefig('Redshifts_' + figname + '.pdf')\n",
    "    plt.yscale('log')\n",
    "    plt.show()\n",
    "    \n",
    "    \n",
    "PlotRedshiftsGetTrajectoriesFromH5('Data/HeadOn_50/', 'HeadOn_50')"
   ]
  },
  {
   "cell_type": "code",
   "execution_count": null,
   "metadata": {},
   "outputs": [],
   "source": []
  }
 ],
 "metadata": {
  "kernelspec": {
   "display_name": "Python 3",
   "language": "python",
   "name": "python3"
  },
  "language_info": {
   "codemirror_mode": {
    "name": "ipython",
    "version": 3
   },
   "file_extension": ".py",
   "mimetype": "text/x-python",
   "name": "python",
   "nbconvert_exporter": "python",
   "pygments_lexer": "ipython3",
   "version": "3.7.4"
  }
 },
 "nbformat": 4,
 "nbformat_minor": 2
}
