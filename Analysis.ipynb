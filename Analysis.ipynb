{
 "cells": [
  {
   "cell_type": "code",
   "execution_count": null,
   "metadata": {
    "code_folding": [
     0
    ]
   },
   "outputs": [],
   "source": [
    "## imports\n",
    "#%matplotlib qt\n",
    "\n",
    "\n",
    "import matplotlib.pyplot as plt\n",
    "from matplotlib import rc\n",
    "import numpy as np\n",
    "import matplotlib\n",
    "from matplotlib import cm\n",
    "import h5py\n",
    "import os\n",
    "from math import pi, sqrt\n",
    "from scipy.optimize import curve_fit\n",
    "import scipy\n",
    "import seaborn as sns\n",
    "from mpl_toolkits.mplot3d import Axes3D\n",
    "import time\n",
    "from scipy.interpolate import InterpolatedUnivariateSpline\n",
    "rc('text', usetex=True)\n",
    "import seaborn as sns\n",
    "from os import path\n",
    "from scipy import integrate\n",
    "\n",
    "# Plot parameters\n",
    "matplotlib.rcParams['mathtext.fontset'] = 'stix'\n",
    "matplotlib.rcParams['font.family'] = 'STIXGeneral'\n",
    "matplotlib.rcParams['axes.labelsize'] = 24\n",
    "matplotlib.rcParams['xtick.labelsize'] = 30\n",
    "matplotlib.rcParams['ytick.labelsize'] = 30\n",
    "matplotlib.rcParams['xtick.major.size'] = 20\n",
    "matplotlib.rcParams['ytick.major.size'] = 20\n",
    "matplotlib.rcParams['xtick.top'] = True\n",
    "matplotlib.rcParams['xtick.direction'] = 'in'\n",
    "matplotlib.rcParams['xtick.minor.visible'] = True\n",
    "matplotlib.rcParams['xtick.minor.size'] = 10\n",
    "matplotlib.rcParams['ytick.minor.size'] = 10\n",
    "matplotlib.rcParams['legend.fontsize'] = 18\n",
    "matplotlib.rcParams['legend.frameon'] = True\n",
    "matplotlib.rcParams['lines.linewidth'] = 3\n"
   ]
  },
  {
   "cell_type": "code",
   "execution_count": 45,
   "metadata": {
    "code_folding": [
     0
    ]
   },
   "outputs": [],
   "source": [
    "## Data helper functions\n",
    "\n",
    "def CutTimes(time, data, TLow, TUp): \n",
    "    TLowIndex = np.where(time <= TLow)[0][0]\n",
    "    TUpIndex = np.where(time >= TUp)[0][-1]\n",
    "    time = time[TLowIndex:TUpIndex]\n",
    "    data = data[TLowIndex:TUpIndex]\n",
    "    return time, data\n",
    "\n",
    "def CutTimesArray(time, Arr, TLow, TUp): \n",
    "    TLowIndex = np.where(time <= TLow)[0] \n",
    "    if(len(TLowIndex) > 0):\n",
    "        TLowIndex = TLowIndex[-1]\n",
    "    else:\n",
    "        TLowIndex = 0\n",
    "    TUpIndex = np.where(time >= TUp)[0]\n",
    "    if(len(TUpIndex) > 0):\n",
    "        TUpIndex = TUpIndex[0]\n",
    "    else:\n",
    "        TUpIndex = -1\n",
    "        \n",
    "    time = time[TLowIndex:TUpIndex]\n",
    "    Ans = []\n",
    "    for data in Arr:\n",
    "        Ans.append(data[TLowIndex:TUpIndex])\n",
    "    return time, Ans \n",
    "\n",
    "\n",
    "def GetPeakTimeMode(time, data): ###\n",
    "    ## Peak time being the peak of the magnitude of the data\n",
    "    t_peak = time[np.argmax(np.absolute(data))]\n",
    "    return t_peak\n",
    "\n",
    "def GetPeakTimeModeReal(time, data): ###\n",
    "    ## Peak time being the peak of the magnitude of the data\n",
    "    t_peak = time[np.argmax(np.real(data))]\n",
    "    return t_peak\n",
    "\n",
    "def SubtractPeakTimeMode(time, data): ###\n",
    "    t_peak = GetPeakTimeMode(time, data)\n",
    "    return time - t_peak\n",
    "\n",
    "def SubtractPeakTimeModeReal(time, data): ###\n",
    "    t_peak = GetPeakTimeModeReal(time, data)\n",
    "    return time - t_peak\n",
    "\n",
    "def InterpolateTimes(time, data, time_dest):\n",
    "    \"\"\" Interpolates time, data onto new time axis\n",
    "        time_dest \"\"\"\n",
    "    interpolant = scipy.interpolate.CubicSpline(time, data)\n",
    "    return interpolant(time_dest)"
   ]
  },
  {
   "cell_type": "markdown",
   "metadata": {},
   "source": [
    "## Read and plot GW data"
   ]
  },
  {
   "cell_type": "code",
   "execution_count": 44,
   "metadata": {
    "code_folding": [
     0
    ]
   },
   "outputs": [],
   "source": [
    "## Data reading functions\n",
    "\n",
    "def GetWaveformRadius(p, rad):\n",
    "    psi4_file = p + 'GW2/rPsi4_FiniteRadii_CodeUnits.h5'\n",
    "    f = h5py.File(psi4_file, 'r')\n",
    "    radius = sorted(f.keys())[rad]\n",
    "    coord_radius = f[radius]['CoordRadius.dat'][0][1]\n",
    "    return coord_radius\n",
    "    \n",
    "def GetPsi4Mode(p, mode, radius=-1): \n",
    "    ## which finite radius should we use?\n",
    "    l = mode[0]\n",
    "    m = mode[1]\n",
    "    psi4_file = p + 'GW2/rPsi4_FiniteRadii_CodeUnits.h5' \n",
    "    f = h5py.File(psi4_file, 'r')\n",
    "    radius = sorted(f.keys())[radius]\n",
    "    data = f[radius]['Y_l' + str(l) + '_m'  + str(m) + '.dat']\n",
    "    time, re, im = data[:,0], data[:,1], data[:,2]\n",
    "    Psi4 = re + 1j*im\n",
    "    return time, Psi4\n",
    "\n",
    "def GetStrainMode(p, mode, radius=-1): \n",
    "    ## which finite radius should we use?\n",
    "    l = mode[0]\n",
    "    m = mode[1]\n",
    "    psi4_file = p + 'GW2/rh_FiniteRadii_CodeUnits.h5' \n",
    "    f = h5py.File(psi4_file, 'r')\n",
    "    radius = sorted(f.keys())[radius]\n",
    "    data = f[radius]['Y_l' + str(l) + '_m'  + str(m) + '.dat']\n",
    "    time, re, im = data[:,0], data[:,1], data[:,2]\n",
    "    Psi4 = re + 1j*im\n",
    "    return time, Psi4\n",
    "\n",
    "def GetPsi4ModeExtrapolated(p, mode, order=2): \n",
    "    l = mode[0]\n",
    "    m = mode[1]\n",
    "    psi4_file = p + 'rMPsi4_Asymptotic_GeometricUnits.h5' \n",
    "    f = h5py.File(psi4_file, 'r')\n",
    "    data = f['Extrapolated_N' + str(order) +'.dir']['Y_l' + str(l) + '_m'  + str(m) + '.dat']\n",
    "    time, re, im = data[:,0], data[:,1], data[:,2]\n",
    "    Psi4 = re + 1j*im\n",
    "    return time, Psi4\n",
    "\n",
    "def GetStrainModeExtrapolated(p, mode, order=2): \n",
    "    l = mode[0]\n",
    "    m = mode[1]\n",
    "    h_file = p + 'rhOverM_Asymptotic_GeometricUnits.h5' \n",
    "    f = h5py.File(h_file, 'r')\n",
    "    data = f['Extrapolated_N'+str(order)+'.dir']['Y_l' + str(l) + '_m'  + str(m) + '.dat']\n",
    "    time, re, im = data[:,0], data[:,1], data[:,2]\n",
    "    h = re + 1j*im\n",
    "    return time, h"
   ]
  },
  {
   "cell_type": "code",
   "execution_count": null,
   "metadata": {
    "code_folding": [
     0
    ]
   },
   "outputs": [],
   "source": [
    "## Plot strain at various radii\n",
    "\n",
    "def PlotRadiiStrain(p):\n",
    "    ## Run Progress\n",
    "    plt.figure(figsize=(14, 8))\n",
    "\n",
    "    mode = (2,2)\n",
    "    \n",
    "    radii = [0, 15, 20, 22, 23]\n",
    "    cs = sns.color_palette('husl', n_colors=len(radii))\n",
    "\n",
    "    for rad, i in zip(radii, range(len(radii))):\n",
    "\n",
    "        radius = int(GetWaveformRadius(p, rad))\n",
    "        \n",
    "        time, data = GetStrainMode(p, mode, radius=rad)\n",
    "        tt = GetPeakTimeMode(time, data)\n",
    "        \n",
    "        plt.plot(time, np.real(data), label='%.1f, %.1f' % (radius, tt), color=cs[i])\n",
    "\n",
    "    plt.xlabel(r'Coodinate time $t/M$')\n",
    "    plt.ylabel(r'$rh$' + str(mode), fontsize=30)\n",
    "    legend = plt.legend(loc='lower right', title='Extraction radius, peak time', fontsize=20, framealpha=1.0)\n",
    "    plt.setp(legend.get_title(),fontsize=20)\n",
    "    plt.xlim(-10, 900)\n",
    "    plt.tight_layout()\n",
    "    plt.savefig('RadiiPeaks.pdf')\n",
    "    plt.show()\n",
    "    \n",
    "#PlotRadiiStrain('Data/HeadOn_Harmonic/JoinedLev2/')"
   ]
  },
  {
   "cell_type": "markdown",
   "metadata": {},
   "source": [
    "## Read in horizon data "
   ]
  },
  {
   "cell_type": "code",
   "execution_count": null,
   "metadata": {
    "code_folding": [
     0
    ]
   },
   "outputs": [],
   "source": [
    "## Read in horizon trajectories\n",
    "\n",
    "Lev = \"2\"\n",
    "\n",
    "def read_horizon_trajectories(Horizon):\n",
    "    \"\"\" Horizon is a string corresponding to the BH we're interested in [A, B, C]\"\"\"\n",
    "    f = \"Data/HeadOn_Harmonic/JoinedLev\" + Lev + \"/ApparentHorizons/Trajectory_Ah\" + Horizon + \".dat\"\n",
    "    t, x, y, z = np.loadtxt(f, comments=\"#\",usecols=([0,1,2,3]),unpack=True)\n",
    "    return t, x, y, z\n",
    "\n",
    "## Build the horizon interpolants\n",
    "t_a, x_a, y_a, z_a = read_horizon_trajectories(\"A\")\n",
    "spl_x_a = InterpolatedUnivariateSpline(t_a, x_a)\n",
    "spl_y_a = InterpolatedUnivariateSpline(t_a, y_a)\n",
    "spl_z_a = InterpolatedUnivariateSpline(t_a, z_a)\n",
    "\n",
    "t_b, x_b, y_b, z_b = read_horizon_trajectories(\"B\")\n",
    "spl_x_b = InterpolatedUnivariateSpline(t_b, x_b)\n",
    "spl_y_b = InterpolatedUnivariateSpline(t_b, y_b)\n",
    "spl_z_b = InterpolatedUnivariateSpline(t_b, z_b)\n",
    "\n",
    "t_c, x_c, y_c, z_c = read_horizon_trajectories(\"C\")\n",
    "t_merger = t_b[-1]\n",
    "t_ringdown = t_c[0]\n",
    "spl_x_c = InterpolatedUnivariateSpline(t_c, x_c)\n",
    "spl_y_c = InterpolatedUnivariateSpline(t_c, y_c)\n",
    "spl_z_c = InterpolatedUnivariateSpline(t_c, z_c)\n",
    "\n",
    "def horizon_at_time(time, Horizon):\n",
    "    if Horizon == \"A\":\n",
    "        return spl_x_a(time), spl_y_a(time), spl_z_a(time)\n",
    "    if Horizon == \"B\":\n",
    "        return spl_x_b(time), spl_y_b(time), spl_z_b(time)\n",
    "    if Horizon == \"C\":\n",
    "        return spl_x_c(time), spl_y_c(time), spl_z_c(time)\n",
    "    else:\n",
    "        print(\"Unrecognized horizon argument\")\n",
    "\n",
    "def distance_sqr(xx, yy, zz, xx_h, yy_h, zz_h):\n",
    "    return (xx - xx_h)**2 + (yy - yy_h)**2 + (zz - zz_h)**2\n",
    "    \n",
    "def distance_to_horizon(time, xx, yy, zz):\n",
    "    \"\"\" time, x,x yy, zz are scalars for the position\"\"\"\n",
    "    if time <= t_merger:\n",
    "        min_dist = 1e10\n",
    "        for horizon in [\"A\", \"B\"]:\n",
    "            \"\"\" Have to minimize over AhA and AhB distances\"\"\"\n",
    "            xx_h, yy_h, zz_h = horizon_at_time(time, horizon)\n",
    "            dist = distance_sqr(xx, yy, zz, xx_h, xx_h, xx_h)\n",
    "            min_dist = min(min_dist, dist)\n",
    "        return sqrt(min_dist)\n",
    "    elif time > t_merger:\n",
    "        xx_h, yy_h, zz_h = horizon_at_time(time, \"C\")\n",
    "        dist = distance_sqr(xx, yy, zz, xx_h, xx_h, xx_h)\n",
    "        return sqrt(dist)\n",
    "    else:\n",
    "        print(\"somehow here\")\n",
    "        print(time, t_merger, t_ringdown)\n",
    "                \n",
    "def min_distance_to_horizon(t, x, y, z):\n",
    "    \"\"\" Returns the minimum distance of a geodesic to a horizon over all time\n",
    "        t, x, y, z are arrays with the history of the geodesic\"\"\"\n",
    "    min_distance = 1e10\n",
    "                \n",
    "    ## minimize over the times\n",
    "    for time, xx, yy, zz in zip(t, x, y, z):\n",
    "        dist_horizon = distance_to_horizon(time, xx, yy, zz)\n",
    "        min_distance = min(min_distance, dist_horizon)\n",
    "\n",
    "    return(sqrt(min_distance))\n",
    "            "
   ]
  },
  {
   "cell_type": "markdown",
   "metadata": {},
   "source": [
    "## Read in lensing camera data"
   ]
  },
  {
   "cell_type": "code",
   "execution_count": 38,
   "metadata": {
    "code_folding": []
   },
   "outputs": [],
   "source": [
    "## Lensing camera data\n",
    "def GetCameraData(p):\n",
    "    \n",
    "    file = p + 'RefinementMethodData.h5'\n",
    "    f = h5py.File(file, 'r')\n",
    "    data = f['LensingCore.dat']\n",
    "    \n",
    "    tags = data[:,0]\n",
    "    tags = tags.astype(int)\n",
    "    x_pos = data[:,1]\n",
    "    y_pos = data[:,2]\n",
    "    surface = data[:,4]\n",
    "    \n",
    "    return tags, x_pos, y_pos, surface\n",
    "\n",
    "def GrabSurfaceIndices(surface, fate):\n",
    "    \n",
    "    i = np.where(surface == fate)[0]\n",
    "    return i\n",
    "\n",
    "def SelectCameraGeodesics(p, fate):\n",
    "    \n",
    "    tags, x_pos, y_pos, surface = GetCameraData(p)\n",
    "    \n",
    "    i = np.where(surface == fate)[0]\n",
    "    \n",
    "    return tags[i], x_pos[i], y_pos[i], surface[i]\n",
    "    \n",
    "def GetInfinityGeodesics(p):\n",
    "    \"\"\" \n",
    "    inf = np.where(surface == 1.)[0]\n",
    "    infty = np.where(surface == 7.)[0]\n",
    "    aha = np.where(surface == 2.)[0]\n",
    "    ahb = np.where(surface == 3.)[0]\n",
    "    ahc = np.where(surface == 4.)[0]\n",
    "    \"\"\"\n",
    "    file = p + 'RefinementMethodData.h5'\n",
    "    f = h5py.File(file, 'r')\n",
    "    data = f['LensingCore.dat']\n",
    "    surface = data[:,4]\n",
    "    return GrabSurfaceIndices(surface, 1)\n",
    "    \n"
   ]
  },
  {
   "cell_type": "markdown",
   "metadata": {},
   "source": [
    "## Read in geodesics trajectories"
   ]
  },
  {
   "cell_type": "code",
   "execution_count": 31,
   "metadata": {
    "code_folding": [
     0
    ]
   },
   "outputs": [],
   "source": [
    "## Read geodesic trajectories from Node0.h5 and dump to .dat files\n",
    "\n",
    "def ReadGeodesicData(p, t_start, t_end):\n",
    "    \"\"\" Read in an array of times and positions for all geodesics at once, \n",
    "        and return the trajectories indexed by geodesic \"\"\"\n",
    "        \n",
    "    def AppendGeodesicsTime(Lev, Run):\n",
    "\n",
    "        print(\"Reading Geodesic data for \" + Lev + \" and \" + Run)\n",
    "\n",
    "        file = p + '/' + Lev + '/' + Run + '/Run/Node0.h5'\n",
    "        f = h5py.File(file, 'r')\n",
    "        ## grab the .dat files\n",
    "        keys = [k for k in f.keys() if 'dat' in k]\n",
    "        ## Array of times from the .dat files\n",
    "        times = [float(k.split('.dat')[0]) for k in keys]\n",
    "        ## sort keys according to times\n",
    "        times, keys = zip(*sorted(zip(times, keys)))\n",
    "        # grab the number of geodesics\n",
    "        N_geodesics = len(f[keys[-1]][:,0])\n",
    "        print(\"Total geodesics: \", N_geodesics, \"Time steps: \", len(times))\n",
    "        ## Minimum index\n",
    "        m = int(f[keys[-1]][:,0][0])\n",
    "        print(\"Geodesic index offset of this refinement iteration: \", m)\n",
    "    \n",
    "        X = [ [] for _ in range(N_geodesics)]\n",
    "        Y = [ [] for _ in range(N_geodesics)]\n",
    "        Z = [ [] for _ in range(N_geodesics)]\n",
    "        L = [ [] for _ in range(N_geodesics)]\n",
    "        T = [ [] for _ in range(N_geodesics)]\n",
    "    \n",
    "        for k, t in zip(keys, times):\n",
    "            print(t)\n",
    "            if ((t > t_start) and (t < t_end)):\n",
    "                print(\"%.1f  \" % t, end = '')\n",
    "                data = f[k]\n",
    "                ## indices and positions for all geodesics at this time\n",
    "                indices = data[:,0]\n",
    "                if (len(data[0]) == 7):\n",
    "                    \"\"\" If we've run the numerical evolution so that we haven't \n",
    "                        evolved lapse p0 -- just set lapsep0 to 1 in the files. \n",
    "                        This field need to be in the resulting .dat file for the \n",
    "                        paraview trajectory visualization\"\"\"\n",
    "                    x = data[:,4]\n",
    "                    y = data[:,5]\n",
    "                    z = data[:,6]\n",
    "                    l = np.ones(len(x))\n",
    "                elif (len(data[0]) == 8):\n",
    "                    \"\"\" If we have evolved lapse p0\"\"\"\n",
    "                    l = data[:,1]\n",
    "                    x = data[:,5]\n",
    "                    y = data[:,6]\n",
    "                    z = data[:,7]\n",
    "                else:\n",
    "                    print(\"Unrecognized number of variables\")\n",
    "                ## fill in the array for each index\n",
    "                for i, j in zip(indices.astype(int), range(len(indices))):\n",
    "                    X[i-m] = np.append(X[i-m], x[j])\n",
    "                    Y[i-m] = np.append(Y[i-m], y[j])\n",
    "                    Z[i-m] = np.append(Z[i-m], z[j])\n",
    "                    L[i-m] = np.append(L[i-m], l[j])\n",
    "                    T[i-m] = np.append(T[i-m], t)\n",
    "\n",
    "        print(\"\\n\")\n",
    "        ## Once we have the arrays constructed, append them to the file\n",
    "        print('Read the geodesic data, now writing the files')\n",
    "        print(\"Masha\", len(T))\n",
    "        for a in range(len(T)):\n",
    "            ##if (len(T[a]) > 1):\n",
    "                ## Remember to add in the minimum index since the starting \n",
    "                ## geodesic index just gets incremented during reach refinement\n",
    "                ## level (by the number of geodesics that came from the levels before)\n",
    "            ff = open(p + '/Trajectories/' + str(a + m) + '.dat','ab')\n",
    "            np.savetxt(ff, np.c_[T[a],X[a],Y[a],Z[a],L[a]])\n",
    "            ff.close()\n",
    "        print('Finished writing the files')\n",
    "            \n",
    "    ## Go through the refinement levels and the segments\n",
    "    RefinementLevs = [el for el in os.listdir(p) if \"Lev\" in el]\n",
    "    print(\"RefinementLevs:\", RefinementLevs)\n",
    "    for lev in RefinementLevs:\n",
    "        Segments = os.listdir(p + '/' + lev)\n",
    "        print(lev + \" Segments:\", Segments)\n",
    "        for segment in Segments:\n",
    "            AppendGeodesicsTime(lev, segment)\n",
    "\n",
    "def MakeGeodesicDatFiles(p, t_start, t_end):\n",
    "    \"\"\" Print the result of ReadGeodesicData to files \"\"\"\n",
    "    ReadGeodesicData(p, t_start, t_end)\n",
    "\n",
    "## Functions for reading GetTrajectoriesFromH5 output\n",
    "def GetGeodesicTrajectory(p, n, Culled = False):\n",
    "    \"\"\" Read in the post-processed trajectory for the nth geodesic \"\"\"\n",
    "    f = p + 'Trajectories/' + str(n) + '.dat'\n",
    "    if Culled:\n",
    "        f = p + 'CulledTrajectories/' + str(n) + '.dat'\n",
    "    #t, x, y, z, lapse = np.loadtxt(f, comments=\"#\",usecols=([0,5,6,7,1]),unpack=True)\n",
    "    t, x, y, z, lapse = np.loadtxt(f, comments=\"#\",usecols=([0,1,2,3,4]),unpack=True)\n",
    "    return t, x, y, z, lapse\n",
    "\n",
    "def GetGeodesicIndices(p, Culled = False):\n",
    "    \"\"\" Return the indices of all of the geodesics we have printed to file \"\"\"\n",
    "    Files = os.listdir(p + '/Trajectories')\n",
    "    if Culled:\n",
    "        Files = os.listdir(p + '/CulledTrajectories')\n",
    "    Indices = [int(file.split('.dat')[0]) for file in Files]\n",
    "    Indices = sorted(Indices)\n",
    "    return Indices"
   ]
  },
  {
   "cell_type": "code",
   "execution_count": null,
   "metadata": {
    "code_folding": []
   },
   "outputs": [],
   "source": [
    "##MakeGeodesicDatFiles('Data/TraceHeadOn_0_0_100_500_BohnNumerical', 330, 1000)"
   ]
  },
  {
   "cell_type": "markdown",
   "metadata": {},
   "source": [
    "## Cull the geodesics based on min arclength threshold"
   ]
  },
  {
   "cell_type": "code",
   "execution_count": 55,
   "metadata": {
    "code_folding": [
     0
    ]
   },
   "outputs": [],
   "source": [
    "## Cull the geodesic trajectories based on arclength\n",
    "def ComputeArcLength(t, x, y, z):\n",
    "    \"\"\" For a given trajectory {x(t), y(t), z(t)}, compute and return\n",
    "        the arclength s(t) as a function of time\"\"\"\n",
    "    dx = np.gradient(x, t)\n",
    "    dy = np.gradient(y, t)\n",
    "    dz = np.gradient(z, t)\n",
    "\n",
    "    ## Compute the magnitude\n",
    "    mag = np.sqrt(dx**2 + dy**2 + dz**2)\n",
    "    \n",
    "    ## Take a running integral \n",
    "    s = integrate.cumtrapz(mag, t, initial = 0.0)\n",
    "    \n",
    "    ## check that s(t) is monotonically increasing\n",
    "    check = np.where((s[1:] - s[:-1]) <= 0.0)[0]\n",
    "    if len(check) > 0:\n",
    "        print(\"s(t) is non-monotonically increasing!\")\n",
    "        \n",
    "    return s\n",
    "\n",
    "def CullArcLength(p):\n",
    "    \"\"\" For a given set of data, snip the geodesic trajectories \n",
    "        when computing the Frenet-Serret quantities \"\"\"\n",
    "    threshold = 0.45\n",
    "    Indices = GetGeodesicIndices(p)\n",
    "    for n in Indices:\n",
    "        t, x, y, z, lapse = GetGeodesicTrajectory(p, n)\n",
    "        s = ComputeArcLength(t, x, y, z)\n",
    "        i = np.where(s < threshold)[0][-1]\n",
    "        print(\"%d  \" % n, end = '')\n",
    "        ff = open(p + '/CulledTrajectories/' + str(n) + '.dat','w')\n",
    "        np.savetxt(ff, np.c_[t[i:], x[i:], y[i:], z[i:], lapse[i:]])\n",
    "        ff.close()\n",
    "    \n",
    "\n"
   ]
  },
  {
   "cell_type": "code",
   "execution_count": null,
   "metadata": {
    "code_folding": []
   },
   "outputs": [],
   "source": [
    "##CullArcLength('Data/SchwarzschildCurvature/')"
   ]
  },
  {
   "cell_type": "markdown",
   "metadata": {},
   "source": [
    "## Zero crossings computations"
   ]
  },
  {
   "cell_type": "code",
   "execution_count": null,
   "metadata": {
    "code_folding": [
     0
    ]
   },
   "outputs": [],
   "source": [
    "## Zero crossings computations\n",
    "def ComputeZeroCrossings(p, n):\n",
    "    \"\"\" Compute the number of zero crossings in the y-z plane - \n",
    "        useful for head-on runs where the collision happens\n",
    "        along the x axis \"\"\"\n",
    "    t, x, y, z, lapse = GetGeodesicTrajectory(p, n)\n",
    "    theta = np.arctan2(z, y)\n",
    "    zero_crossings = len(np.where(np.diff(np.sign(theta)))[0])\n",
    "    return zero_crossings\n",
    "\n",
    "def MakeZeroCrossingsFile(p):\n",
    "    \"\"\" Make a file with the format [geodesic index, number of zero crossings] so \n",
    "        that we only have to compute the number of zero crossings once \"\"\"\n",
    "    ns = GetGeodesicIndices(p)\n",
    "    crossings = [ComputeZeroCrossings(p, n) for n in ns]\n",
    "    np.savetxt(p + 'ZeroCrossings.dat', np.c_[ns, crossings], fmt = '%d %d')\n",
    "    \n",
    "def GetGeodesicsZeroCrossingsIndices(p, N):\n",
    "    \"\"\" Return the indices of the geodesics that make N zero-crossings \"\"\"\n",
    "    f = p + 'ZeroCrossings.dat'\n",
    "    ns, zero_crossings = np.loadtxt(f, comments=\"#\",usecols=([0,1]),unpack=True,dtype=int)\n",
    "    indices = ns[np.where(zero_crossings == N)[0]]\n",
    "    return indices\n",
    "    "
   ]
  },
  {
   "cell_type": "code",
   "execution_count": null,
   "metadata": {
    "scrolled": false
   },
   "outputs": [],
   "source": [
    "##MakeZeroCrossingsFile('Data/TraceHeadOn_0_0_100_319.7/')\n",
    "#GetGeodesicsZeroCrossingsIndices('Data/TraceHeadOn_0_0_100_319.7/', 3)"
   ]
  },
  {
   "cell_type": "markdown",
   "metadata": {},
   "source": [
    "## Plot geodesic trajectories"
   ]
  },
  {
   "cell_type": "code",
   "execution_count": 85,
   "metadata": {
    "code_folding": []
   },
   "outputs": [],
   "source": [
    "## Plot geodesic trajectories\n",
    "def PlotGetTrajectoriesFromH5(p_arr):\n",
    "    \n",
    "    def plot_trajectories_file(p, color):\n",
    "\n",
    "        #Indices = GetInfinityGeodesics(p)[::10]\n",
    "        Indices = [0, 51]\n",
    "        print(Indices)\n",
    "        #Indices = GetGeodesicsZeroCrossingsIndices(p, 4)\n",
    "        \n",
    "        for n in Indices:\n",
    "            t, x, y, z, lapse = GetGeodesicTrajectory(p, n, Culled=False)\n",
    "            #t, Arr = CutTimesArray(t, [x, y, z, lapse], 140, 180)\n",
    "            #x, y, z, lapse = Arr\n",
    "            ax.plot(x, y, z, lw = 1.0, label = n) #, color = color)\n",
    "            #ss = ax.scatter(x, y, z, s=20, c=lapse, cmap = 'rainbow', vmin=0, vmax=12)\n",
    "            #skip = 10\n",
    "            #for tt, xx, yy, zz in zip(t[::skip], x[::skip], y[::skip], z[::skip]):\n",
    "            #    ax.text(xx, yy, zz, str(tt))\n",
    "        #cbar = fig.colorbar(ss, fraction=0.03, pad=0.04,  orientation=\"horizontal\")\n",
    "        #cbar.set_label(r'$\\log \\alpha p_0$', rotation=0)\n",
    "                \n",
    "    fig = plt.figure(figsize=(8,8))\n",
    "    ax = fig.add_subplot(111, projection='3d')\n",
    "    \n",
    "    #Add in the horizons\n",
    "#     for horizon, color in zip([\"A\", \"B\", \"C\"], [\"blue\", \"lightblue\", \"yellow\"]):\n",
    "#         t_h, x_h, y_h, z_h = read_horizon_trajectories(horizon)\n",
    "#         #t_h, x_h, y_h, z_h, temp = CutTimesGeodesic(t_h, x_h, y_h, z_h, z_h, 155, 180)\n",
    "#         plt.plot(x_h, y_h, z_h, color='black', lw = 2.0)\n",
    "\n",
    "    ax.scatter([0.0], [0.0], [0.0], s = 20, color='black')\n",
    "        \n",
    "    cs = sns.color_palette('husl', n_colors=len(p_arr))\n",
    "    for p, i in zip(p_arr, range(len(p_arr))):\n",
    "        plot_trajectories_file(p, cs[i])\n",
    "        \n",
    "    \n",
    "    ax.set_xlabel('Camera X',labelpad=20)\n",
    "    ax.set_ylabel('Camera Y', labelpad=20)\n",
    "    ax.set_zlabel('Camera Z', labelpad=20)\n",
    "    \n",
    "    lim = 10.0\n",
    "    ax.set_xlim(-lim, lim)\n",
    "    ax.set_ylim(-lim, lim)\n",
    "    ax.set_zlim(-lim, lim)\n",
    "    \n",
    "    ax.set_axis_off()\n",
    "\n",
    "    plt.legend()\n",
    "    plt.tight_layout()\n",
    "    plt.show()\n",
    "    \n"
   ]
  },
  {
   "cell_type": "code",
   "execution_count": 86,
   "metadata": {},
   "outputs": [
    {
     "name": "stdout",
     "output_type": "stream",
     "text": [
      "[0, 51]\n"
     ]
    },
    {
     "data": {
      "image/png": "[encoded data removed]",
      "text/plain": [
       "<Figure size 576x576 with 1 Axes>"
      ]
     },
     "metadata": {
      "needs_background": "light"
     },
     "output_type": "display_data"
    }
   ],
   "source": [
    "#PlotGetTrajectoriesFromH5(['Data/TraceHeadOn_0_0_100_500_BohnNumerical/'])\n",
    "PlotGetTrajectoriesFromH5(['Data/SchwarzschildCurvature/'])"
   ]
  },
  {
   "cell_type": "markdown",
   "metadata": {},
   "source": [
    "## Frenet-Serret Analysis\n",
    "\n",
    "### Given the trajectories {x(t), y(t), z(t)}, let's compute the Frenet-Serret frame"
   ]
  },
  {
   "cell_type": "code",
   "execution_count": 52,
   "metadata": {
    "code_folding": [
     0
    ]
   },
   "outputs": [],
   "source": [
    "## Compute quantities for Frenet-Serret Analysis\n",
    "def ComputeFrenetSerretTNB(t, x, y, z):\n",
    "    s = ComputeArcLength(t, x, y, z)\n",
    "    \n",
    "    T_x = np.gradient(x, s)\n",
    "    T_y = np.gradient(y, s)\n",
    "    T_z = np.gradient(z, s)\n",
    "    \n",
    "    dTds_x = np.gradient(T_x, s)\n",
    "    dTds_y = np.gradient(T_y, s)\n",
    "    dTds_z = np.gradient(T_z, s)\n",
    "    \n",
    "    dTds_mag = np.sqrt(dTds_x**2 + dTds_y**2 + dTds_z**2)\n",
    "    \n",
    "    N_x = dTds_x / dTds_mag\n",
    "    N_y = dTds_y / dTds_mag\n",
    "    N_z = dTds_z / dTds_mag\n",
    "    \n",
    "    B_x = T_y * N_z - T_z * N_y\n",
    "    B_y = - T_x * N_z + T_z * N_x\n",
    "    B_z = T_x * N_y - T_y * N_x\n",
    "    \n",
    "    kappa = dTds_mag ## curvature\n",
    "\n",
    "    return T_x, T_y, T_z, N_x, N_y, N_z, B_x, B_y, B_z, kappa\n",
    "    \n",
    "    "
   ]
  },
  {
   "cell_type": "code",
   "execution_count": 99,
   "metadata": {
    "code_folding": []
   },
   "outputs": [],
   "source": [
    "## ArcLengthNoise plot\n",
    "def ArcLengthNoise(p, n):\n",
    "    \"\"\" Explorations in noise due to the arclength s(t) parameter \"\"\"\n",
    "    \n",
    "    t, x, y, z, lapse = GetGeodesicTrajectory(p, n, Culled=False)\n",
    "    s = ComputeArcLength(t, x, y, z)\n",
    "\n",
    "    plt.figure(figsize=(8,6))\n",
    "\n",
    "    mm = 5\n",
    "    T = np.gradient(x, s)\n",
    "    plt.plot(t, s, '-', label='s(t)',markersize=mm, color='red')\n",
    "    plt.plot(t, np.gradient(s, t), '-', label='ds/dt',markersize=mm, color='pink')\n",
    "\n",
    "    T_x, T_y, T_z, N_x, N_y, N_z, B_x, B_y, B_z, kappa = ComputeFrenetSerretTNB(t, x, y, z)\n",
    "    #T_mag = np.sqrt(T_x**2 + T_y**2 + T_z**2)\n",
    "    plt.plot(t, kappa, '-', label='kappa', markersize=mm, color='black')\n",
    "    #plt.plot(t, np.abs(T_mag - 1.0), label='|1 - Magnitude of T|')\n",
    "    \n",
    "    #plt.axhline(0.45)\n",
    "    plt.xlabel('t')\n",
    "    plt.legend()\n",
    "    plt.yscale('log')\n",
    "    #plt.xlim(330, 400)\n",
    "    plt.tight_layout()\n",
    "    plt.show()\n"
   ]
  },
  {
   "cell_type": "code",
   "execution_count": null,
   "metadata": {},
   "outputs": [],
   "source": []
  },
  {
   "cell_type": "code",
   "execution_count": 101,
   "metadata": {
    "scrolled": false
   },
   "outputs": [
    {
     "name": "stdout",
     "output_type": "stream",
     "text": [
      "n =  0\n"
     ]
    },
    {
     "data": {
      "image/png": "[encoded data removed]",
      "text/plain": [
       "<Figure size 576x432 with 1 Axes>"
      ]
     },
     "metadata": {
      "needs_background": "light"
     },
     "output_type": "display_data"
    },
    {
     "name": "stdout",
     "output_type": "stream",
     "text": [
      "n =  51\n"
     ]
    },
    {
     "data": {
      "image/png": "[encoded data removed]",
      "text/plain": [
       "<Figure size 576x432 with 1 Axes>"
      ]
     },
     "metadata": {
      "needs_background": "light"
     },
     "output_type": "display_data"
    }
   ],
   "source": [
    "p = 'Data/SchwarzschildCurvature/'\n",
    "tags_fs, kappas = GetFrenetSerretMaxCurvatures(p)\n",
    "inf = GetInfinityGeodesics(p)\n",
    "tags_fs = tags_fs[inf]\n",
    "kappas = kappas[inf]\n",
    "ii = np.argmax(kappas)\n",
    "#print(tags_fs[ii], kappas[ii])\n",
    "Indices = [0, 51] #GetInfinityGeodesics(p)\n",
    "for n in Indices:\n",
    "    print(\"n = \", n)\n",
    "    ArcLengthNoise(p, n)"
   ]
  },
  {
   "cell_type": "code",
   "execution_count": 10,
   "metadata": {
    "code_folding": [
     0
    ]
   },
   "outputs": [],
   "source": [
    "## Dump the Frenet-Serret data to files and read from files\n",
    "def MakeFrenetSerretDatFiles(p):\n",
    "    \"\"\" For all geodesics .dat files in a given directory, dump the Frenet-Serret Frame \n",
    "        data (so we only have to compute it once)\"\"\"\n",
    "    ns = GetGeodesicIndices(p, Culled=True)\n",
    "    for n in ns: \n",
    "        print(\"%d  \" % n, end = '')\n",
    "        t, x, y, z, lapse = GetGeodesicTrajectory(p, n, Culled=True)\n",
    "        T_x, T_y, T_z, N_x, N_y, N_z, B_x, B_y, B_z, kappa = ComputeFrenetSerretTNB(t, x, y, z)\n",
    "        np.savetxt(p + '/FrenetSerret/' + str(n) + '.dat', np.c_[t, kappa, T_x, T_y, T_z, \\\n",
    "                                                                        N_x, N_y, N_z, \\\n",
    "                                                                        B_x, B_y, B_z])\n",
    "        \n",
    "def GetFrenetSerretVectors(p, n):\n",
    "    \"\"\" Read in the post-processed trajectory for the nth geodesic \"\"\"\n",
    "    f = p + 'FrenetSerret/' + str(n) + '.dat'\n",
    "    t, kappa, T_x, T_y, T_z, N_x, N_y, N_z, B_x, B_y, B_z \\\n",
    "        = np.loadtxt(f, comments=\"#\",usecols=(range(11)),unpack=True)\n",
    "    return t, kappa, T_x, T_y, T_z, N_x, N_y, N_z, B_x, B_y, B_z\n",
    "  \n",
    "def GetFrenetSerretCurvature(p, n):\n",
    "    \"\"\" Read in the post-processed curvature for the nth geodesic \"\"\"\n",
    "    f = p + 'FrenetSerret/' + str(n) + '.dat'\n",
    "    t, kappa = np.loadtxt(f, comments=\"#\",usecols=([0,1]),unpack=True)\n",
    "    return t, kappa\n",
    "\n",
    "def MakeMaxCurvatureFile(p):\n",
    "    \"\"\" Make file constraining the geodesic ID, the maximum value of the curvature, \n",
    "        and the x, y, z, coordinates of this point\"\"\"\n",
    "    ns = GetGeodesicIndices(p, Culled=True)\n",
    "    N = len(ns)\n",
    "    MaxKappa = np.zeros(N)\n",
    "    T = np.zeros(N)\n",
    "    X = np.zeros(N)\n",
    "    Y = np.zeros(N)\n",
    "    Z = np.zeros(N)\n",
    "    \n",
    "    for i in range(N):\n",
    "        n = ns[i]\n",
    "        t, x, y, z, lapse = GetGeodesicTrajectory(p, n, Culled=True)\n",
    "        time, kappa = GetFrenetSerretCurvature(p, n)\n",
    "        index = np.argmax(kappa)\n",
    "        MaxKappa[i] = kappa[index]\n",
    "        T[i] = t[index]\n",
    "        X[i] = x[index]\n",
    "        Y[i] = y[index]\n",
    "        Z[i] = z[index]\n",
    "    \n",
    "    np.savetxt(p + 'MaxCurvatures.dat', np.c_[ns, MaxKappa, T, X, Y, Z], fmt = '%d %f %f %f %f %f')\n",
    "\n",
    "def GetFrenetSerretMaxCurvatures(p, loc = False):\n",
    "    \"\"\" Read in the post-processed max curvature for all geodesics\n",
    "        if loc == True, then also return the location\"\"\"\n",
    "    f = p + 'MaxCurvatures.dat'\n",
    "    ns, kappa, t, x, y, z = np.loadtxt(f, comments=\"#\",usecols=([0,1,2,3,4,5]),unpack=True)\n",
    "    if loc == False:\n",
    "        return ns.astype(int), kappa\n",
    "    else:\n",
    "        return ns.astype(int), kappa, x, y, z\n",
    "    \n",
    "def GetFrenetSerretMaxCurvature(p, n, loc = False):\n",
    "    \"\"\" Read in the post-processed max curvature for the nth geodesic \n",
    "        if loc == True, then also return the location\"\"\"\n",
    "    f = p + 'MaxCurvatures.dat'\n",
    "    ns, kappa, t, x, y, z = np.loadtxt(f, comments=\"#\",usecols=([0,1,2,3,4,5]),unpack=True)\n",
    "    index = np.where(ns == n)[0][0]\n",
    "    if loc == False:\n",
    "        return kappa[index]\n",
    "    else:\n",
    "        return kappa[index], x[index], y[index], z[index]\n",
    "\n"
   ]
  },
  {
   "cell_type": "code",
   "execution_count": null,
   "metadata": {
    "code_folding": []
   },
   "outputs": [],
   "source": [
    "MakeFrenetSerretDatFiles('Data/SchwarzschildCurvature/')\n",
    "MakeMaxCurvatureFile('Data/SchwarzschildCurvature/')"
   ]
  },
  {
   "cell_type": "markdown",
   "metadata": {},
   "source": [
    "## Plot Frenet-Serret results"
   ]
  },
  {
   "cell_type": "code",
   "execution_count": 93,
   "metadata": {
    "code_folding": []
   },
   "outputs": [],
   "source": [
    "## Plot the Frenet-Serret Frame\n",
    "def PlotFrenetSerretFrame(p):\n",
    "    \n",
    "    fig = plt.figure(figsize=(10,10))\n",
    "    ax = fig.add_subplot(111, projection='3d')\n",
    "    \n",
    "    #Add in the horizons\n",
    "    #for horizon, color in zip([\"A\", \"B\", \"C\"], [\"blue\", \"lightblue\", \"yellow\"]):\n",
    "    #    t_h, x_h, y_h, z_h = read_horizon_trajectories(horizon)\n",
    "    #    #t_h, x_h, y_h, z_h, temp = CutTimesGeodesic(t_h, x_h, y_h, z_h, z_h, 155, 180)\n",
    "    #    plt.plot(x_h, y_h, z_h, color='black', lw = 2.0)\n",
    "\n",
    "    ns = GetGeodesicIndices(p, Culled=False)[::100]\n",
    "    ns = [0, 51]\n",
    "\n",
    "    for n in ns: \n",
    "        t, x, y, z, lapse = GetGeodesicTrajectory(p, n, Culled = False)\n",
    "        #t, Arr = CutTimesArray(t, [x, y, z], -1, 150)\n",
    "        #x, y, z = Arr\n",
    "        \n",
    "        t, kappa, T_x, T_y, T_z, N_x, N_y, N_z, B_x, B_y, B_z = GetFrenetSerretVectors(p, n)\n",
    "        #t, Arr = CutTimesArray(t, [kappa, T_x, T_y, T_z, N_x, N_y, N_z, B_x, B_y, B_z], -1, 150)\n",
    "        #kappa, T_x, T_y, T_z, N_x, N_y, N_z, B_x, B_y, B_z = Arr\n",
    "        \n",
    "#         for i in range(0, len(t))[::2]:\n",
    "#             if i == 0:\n",
    "#                 labelT = r'$\\vec{T}$'\n",
    "#                 labelN = r'$\\vec{N}$'\n",
    "#                 labelB = r'$\\vec{B}$'\n",
    "#             else:\n",
    "#                 labelT = None\n",
    "#                 labelN = None\n",
    "#                 labelB = None\n",
    "#             size = 0.000005\n",
    "#             plt.plot([x[i], x[i] + size*T_x[i]], [y[i], y[i] + size*T_y[i]], [z[i], z[i] + size*T_z[i]], \\\n",
    "#                      '-o', color = 'black', lw = 0.5, markersize = 1, label = labelT)\n",
    "#             plt.plot([x[i], x[i] + size*N_x[i]], [y[i], y[i] + size*N_y[i]], [z[i], z[i] + size*N_z[i]], \\\n",
    "#                      '-o', color = 'orange', lw = 0.5, markersize = 1, label = labelN)\n",
    "#             plt.plot([x[i], x[i] + size*B_x[i]], [y[i], y[i] + size*B_y[i]], [z[i], z[i] + size*B_z[i]], \\\n",
    "#                      '-o', color = 'red', lw = 0.5, markersize = 1, label = labelB)\n",
    "         \n",
    "        plt.plot(x, y, z, lw = 0.5, label=n)\n",
    "        ss = ax.scatter(x, y, z, s=20, c=np.log10(kappa), cmap = 'rainbow', vmin=-3, vmax=1)\n",
    "        \n",
    "#         skip = 3\n",
    "#         for tt, xx, yy, zz in zip(t[::skip], x[::skip], y[::skip], z[::skip]):\n",
    "#             ax.text(xx, yy, zz, str(tt))\n",
    "    cbar = fig.colorbar(ss, fraction=0.03, pad=0.04,  orientation=\"horizontal\")\n",
    "    cbar.set_label(r'$\\log_{10} \\kappa$', rotation=0)\n",
    "    ax.scatter([0.0], [0.0], [0.0], s = 20, color='black')\n",
    "\n",
    "    lim = 5.0\n",
    "    ax.set_xlim(-lim, lim)\n",
    "    ax.set_ylim(-lim, lim)\n",
    "    ax.set_zlim(-lim, lim)\n",
    "    ax.set_axis_off()\n",
    "\n",
    "    plt.legend()\n",
    "    plt.tight_layout()\n",
    "    plt.show()\n",
    "    \n",
    "    "
   ]
  },
  {
   "cell_type": "code",
   "execution_count": 94,
   "metadata": {},
   "outputs": [
    {
     "data": {
      "image/png": "[encoded data removed]",
      "text/plain": [
       "<Figure size 720x720 with 2 Axes>"
      ]
     },
     "metadata": {
      "needs_background": "light"
     },
     "output_type": "display_data"
    }
   ],
   "source": [
    "PlotFrenetSerretFrame('Data/SchwarzschildCurvature/') #[4, 12237, 20986])"
   ]
  },
  {
   "cell_type": "markdown",
   "metadata": {},
   "source": [
    "## Histogram the curvatures"
   ]
  },
  {
   "cell_type": "code",
   "execution_count": null,
   "metadata": {
    "code_folding": [
     0
    ]
   },
   "outputs": [],
   "source": [
    "## Plot CDF of Frenet-Serret curvature\n",
    "def PlotCurvatureCDF(p_arr):\n",
    "    \n",
    "    fig = plt.figure(figsize=(10,6))\n",
    "    \n",
    "    cs = sns.color_palette('BuGn_r', n_colors=len(p_arr))\n",
    "    labels = ['Uncut', 'Cut']\n",
    "    for i, p in enumerate(p_arr):\n",
    "        ns, kappas = GetFrenetSerretMaxCurvatures(p)\n",
    "        kappas = np.sort(kappas)\n",
    "        ns = range(len(kappas))\n",
    "        ns = ns/np.max(ns)\n",
    "\n",
    "        plt.plot(ns, kappas, color = cs[i],label = labels[i]) #p.split('_')[5].split('/')[0])\n",
    "        plt.fill_between(ns, 1e-3, kappas, color = cs[i], alpha = 0.1)\n",
    "\n",
    "    #legend = plt.legend(title = 'Geodesic Start Time')\n",
    "    #plt.setp(legend.get_title(),fontsize=20)\n",
    "    plt.yscale('log')\n",
    "    plt.ylabel('Max $\\kappa$, curvature')\n",
    "    plt.xlabel('Running Percent of Geodesic Indices')\n",
    "    plt.ylim(1e-3, 1e5)\n",
    "    plt.xlim(0.0, 1.0)\n",
    "    plt.tight_layout()\n",
    "    plt.show()\n",
    "    "
   ]
  },
  {
   "cell_type": "code",
   "execution_count": null,
   "metadata": {
    "code_folding": []
   },
   "outputs": [],
   "source": [
    "PlotCurvatureCDF(['Data/SchwarzschildCurvature/'])"
   ]
  },
  {
   "cell_type": "markdown",
   "metadata": {},
   "source": [
    "## Plot geodesics above / below certain curvature thresholds"
   ]
  },
  {
   "cell_type": "code",
   "execution_count": null,
   "metadata": {
    "code_folding": [
     0
    ]
   },
   "outputs": [],
   "source": [
    "## Plot geodesic trajectories colored by max curvature\n",
    "def PlotByMaxCurvature(p):\n",
    "                \n",
    "    fig = plt.figure(figsize=(8,8))\n",
    "    ax = fig.add_subplot(111, projection='3d')\n",
    "    \n",
    "    for horizon, color in zip([\"A\", \"B\", \"C\"], [\"blue\", \"lightblue\", \"yellow\"]):\n",
    "        t_h, x_h, y_h, z_h = read_horizon_trajectories(horizon)\n",
    "        plt.plot(x_h, y_h, z_h, color='black', lw = 2.0)\n",
    "    \n",
    "    Indices, MaxCurvatures = GetFrenetSerretMaxCurvatures(p)\n",
    "    Indices = Indices[::100]\n",
    "    MaxCurvatures= MaxCurvatures[::100]\n",
    "    MaxCurvatures = np.log10(np.array(MaxCurvatures))\n",
    "   \n",
    "    Max = np.max(MaxCurvatures)\n",
    "    Min = 3 #np.min(MaxCurvatures)\n",
    "    \n",
    "    ii = np.where((MaxCurvatures < Max) & (MaxCurvatures > Min))[0]\n",
    "    Indices = Indices[ii]\n",
    "    print(Indices)\n",
    "    MaxCurvatures = MaxCurvatures[ii]\n",
    "    \n",
    "\n",
    "    cmap = matplotlib.cm.get_cmap('cool')\n",
    "    colors = [cmap(curv/Max) for curv in MaxCurvatures]\n",
    "    \n",
    "    for n, color in zip(Indices, colors):\n",
    "        t, x, y, z, lapse = GetGeodesicTrajectory(p, n)\n",
    "        ax.plot(x, y, z, lw = 1.0, color = color)\n",
    "\n",
    "    ## just for the colorbar\n",
    "    ss = ax.scatter(x, y, z, s=0, c=x, cmap = cmap, vmin=Min, vmax=Max)\n",
    "    cbar = fig.colorbar(ss, fraction=0.03, pad=0.04,  orientation=\"horizontal\")\n",
    "    cbar.set_label(r'$\\log_{10}$ max curvature $\\kappa$', rotation=0)\n",
    "    \n",
    "    lim = 4.0\n",
    "    ax.set_xlim(-lim, lim)\n",
    "    ax.set_ylim(-lim, lim)\n",
    "    ax.set_zlim(-lim, lim)\n",
    "    \n",
    "    ax.set_axis_off()\n",
    "\n",
    "    plt.tight_layout()\n",
    "    plt.show()"
   ]
  },
  {
   "cell_type": "code",
   "execution_count": null,
   "metadata": {},
   "outputs": [],
   "source": [
    "#PlotByMaxCurvature('Data/TraceHeadOn_0_0_100_500/') "
   ]
  },
  {
   "cell_type": "markdown",
   "metadata": {},
   "source": [
    "## Plot locations of max curvature"
   ]
  },
  {
   "cell_type": "code",
   "execution_count": null,
   "metadata": {
    "code_folding": [
     0
    ]
   },
   "outputs": [],
   "source": [
    "## Plot the max curvature location for each geodesic\n",
    "def PlotMaxCurvatureLocations(p):\n",
    "    \n",
    "    fig = plt.figure(figsize=(6,6))\n",
    "    ax = fig.add_subplot(111, projection='3d')\n",
    "    \n",
    "    #Add in the horizons\n",
    "    for horizon, color in zip([\"A\", \"B\", \"C\"], [\"blue\", \"lightblue\", \"yellow\"]):\n",
    "        t_h, x_h, y_h, z_h = read_horizon_trajectories(horizon)\n",
    "       #t_h, x_h, y_h, z_h, temp = CutTimesGeodesic(t_h, x_h, y_h, z_h, z_h, 155, 180)\n",
    "        plt.plot(x_h, y_h, z_h, color='black', lw = 3.0)\n",
    "\n",
    "    thresh = -2\n",
    "    \n",
    "    ns, kappa, x, y, z = GetFrenetSerretMaxCurvatures(p, loc = True)\n",
    "    kappa = np.log10(kappa)\n",
    "    ii = np.where((kappa > thresh))[0]\n",
    "    \n",
    "    skip = 1\n",
    "    ns = ns[ii][::skip]\n",
    "    kappa = kappa[ii][::skip]\n",
    "    x = x[ii][::skip]\n",
    "    y = y[ii][::skip]\n",
    "    z = z[ii][::skip]\n",
    "    \n",
    "    ss = ax.scatter(x, y, z, s=5, c=kappa, cmap = 'rainbow', vmin=thresh, vmax=2)\n",
    "    \n",
    "    cbar = fig.colorbar(ss, fraction=0.03, pad=0.04,  orientation=\"horizontal\")\n",
    "    cbar.set_label(r'$\\log_{10} \\kappa$', rotation=0)\n",
    "\n",
    "    ax.set_xlabel('X',labelpad=10)\n",
    "    ax.set_ylabel('Y', labelpad=10)\n",
    "    ax.set_zlabel('Z', labelpad=10)\n",
    "    \n",
    "    lim = 2.0\n",
    "    ax.set_xlim(-lim, lim)\n",
    "    ax.set_ylim(-lim, lim)\n",
    "    ax.set_zlim(-lim, lim)\n",
    "    ax.set_axis_off()\n",
    "\n",
    "    #plt.legend()\n",
    "    plt.tight_layout()\n",
    "    plt.show()\n",
    "    "
   ]
  },
  {
   "cell_type": "code",
   "execution_count": null,
   "metadata": {
    "code_folding": []
   },
   "outputs": [],
   "source": [
    "PlotMaxCurvatureLocations('Data/TraceHeadOn_0_0_100_500_BohnNumericalWithLapseP0/') "
   ]
  },
  {
   "cell_type": "markdown",
   "metadata": {},
   "source": [
    "## Plot lensing refinement method results + final positions"
   ]
  },
  {
   "cell_type": "code",
   "execution_count": 104,
   "metadata": {
    "code_folding": []
   },
   "outputs": [],
   "source": [
    "## Plot X, Y camera data and kappas on top of it\n",
    "def PlotRefinementMethodResult(p, shadow=False):\n",
    "    \n",
    "    tags, x_pos, y_pos, surface = GetCameraData(p)\n",
    "\n",
    "    tags_fs, kappas = GetFrenetSerretMaxCurvatures(p)\n",
    "    kappas = np.log10(kappas)\n",
    "\n",
    "    fig = plt.figure(figsize=(10,7))\n",
    "    \n",
    "    if shadow:\n",
    "        \n",
    "        s = 10\n",
    "    \n",
    "        inf = GrabSurfaceIndices(surface, 1)\n",
    "        aha = GrabSurfaceIndices(surface, 2)\n",
    "        ahb = GrabSurfaceIndices(surface, 3)\n",
    "        ahc = GrabSurfaceIndices(surface, 4)\n",
    "        infty = GrabSurfaceIndices(surface, 7)\n",
    "        \n",
    "        plt.scatter(x_pos[infty], y_pos[infty], s=s, c='lightblue', label=r'Out to $\\infty$')\n",
    "        plt.scatter(x_pos[inf], y_pos[inf], s=s, c='lightblue', label=r'Out to $\\infty$')\n",
    "        plt.scatter(x_pos[aha], y_pos[aha], s=s, c='blue', label=r'Close to AhA')\n",
    "        plt.scatter(x_pos[ahb], y_pos[ahb], s=s, c='red', label=r'Close to AhB')\n",
    "        plt.scatter(x_pos[ahc], y_pos[ahc], s=s, c='black', label=r'Close to AhC')\n",
    "    \n",
    "    else:\n",
    "        \n",
    "        indices = GrabSurfaceIndices(surface, 1)\n",
    "        ss = plt.scatter(x_pos[indices], y_pos[indices], s=50, c=kappas[indices], cmap = 'jet') #, vmin=1, vmax=3)\n",
    "        #ss = plt.scatter(x_pos, y_pos, s=200, c=kappas, cmap = 'jet') #, vmin=1, vmax=3)\n",
    "        cbar = fig.colorbar(ss, fraction=0.03, pad=0.04)\n",
    "        cbar.set_label(r'Max $\\log_{10} \\kappa$', rotation=-90, labelpad=20)\n",
    "        \n",
    "        #arr = ahc\n",
    "        #ss = plt.scatter(x_pos[arr], y_pos[arr], s=40, color='black')\n",
    "    \n",
    "    plt.xlabel(r'Camera X')\n",
    "    plt.ylabel(r'Camera Y')\n",
    "    plt.grid()\n",
    "    if shadow:\n",
    "        legend = plt.legend(title='Geodesic Fate', loc='upper left', fontsize=16, framealpha=1.0)\n",
    "        plt.setp(legend.get_title(),fontsize=16)\n",
    "    #lim = 0.4\n",
    "    #plt.xlim(0.5 - lim, 0.5 + lim)\n",
    "    #plt.ylim(0.5 - lim, 0.5 + lim)\n",
    "    plt.tight_layout()\n",
    "    #plt.savefig('Camera.pdf')\n",
    "    plt.show()\n",
    "    "
   ]
  },
  {
   "cell_type": "code",
   "execution_count": 105,
   "metadata": {},
   "outputs": [
    {
     "data": {
      "image/png": "[encoded data removed]",
      "text/plain": [
       "<Figure size 720x504 with 2 Axes>"
      ]
     },
     "metadata": {
      "needs_background": "light"
     },
     "output_type": "display_data"
    }
   ],
   "source": [
    "PlotRefinementMethodResult('Data/SchwarzschildCurvature/', shadow=False)"
   ]
  },
  {
   "cell_type": "code",
   "execution_count": 95,
   "metadata": {
    "code_folding": []
   },
   "outputs": [
    {
     "name": "stdout",
     "output_type": "stream",
     "text": [
      "(array([ 40,  48,  88,  91, 153, 231, 244, 258, 395, 428, 483, 540, 546]),)\n",
      "(array([ 20,  42,  48,  55, 133, 140, 150, 183, 239, 268, 319, 321, 332,\n",
      "       363, 376, 402, 413, 425, 526, 560, 584, 610, 611, 624, 626]),)\n"
     ]
    },
    {
     "data": {
      "image/png": "[encoded data removed]",
      "text/plain": [
       "<Figure size 720x576 with 1 Axes>"
      ]
     },
     "metadata": {
      "needs_background": "light"
     },
     "output_type": "display_data"
    }
   ],
   "source": [
    "## Plot geodesic indices with text\n",
    "def PlotGeodesicIndices(p):\n",
    "    \n",
    "    file = p + 'RefinementMethodData.h5'\n",
    "    f = h5py.File(file, 'r')\n",
    "    data = f['LensingCore.dat']\n",
    "    \n",
    "    tags = data[:,0]\n",
    "    tags = tags.astype(int)\n",
    "    x_pos = data[:,1]\n",
    "    y_pos = data[:,2]\n",
    "    surface = data[:,4]\n",
    "    \n",
    "    print(np.where(abs(x_pos - 0.5) < 0.000001))\n",
    "    print(np.where(abs(y_pos - 0.5) < 0.000001))\n",
    "    \n",
    "    inf = np.where(surface == 1.)[0]\n",
    "    aha = np.where(surface == 2.)[0]\n",
    "    \n",
    "    fig = plt.figure(figsize=(10,8))\n",
    "    \n",
    "    s = 100\n",
    "    plt.scatter(x_pos[inf], y_pos[inf], s=s, c='lightblue', label=r'Out to $\\infty$', alpha=0.2)\n",
    "    plt.scatter(x_pos[aha], y_pos[aha], s=s, c='blue', label=r'Close to AH', alpha=0.2)\n",
    "\n",
    "    a = [0, 51]\n",
    "    for xx, yy, tag in zip(x_pos[a], y_pos[a],tags[a]):\n",
    "        plt.text(xx, yy, str(tag), fontsize=20)\n",
    "    plt.xlabel(r'Camera X')\n",
    "    plt.ylabel(r'Camera Y')\n",
    "    plt.grid()\n",
    "    plt.tight_layout()\n",
    "    plt.show()\n",
    "    \n",
    "PlotGeodesicIndices('Data/SchwarzschildCurvature/')"
   ]
  },
  {
   "cell_type": "code",
   "execution_count": null,
   "metadata": {
    "code_folding": [
     0
    ]
   },
   "outputs": [],
   "source": [
    "## Interpolate a quantity (like the max Frenet-Serret curvature) onto the camera data\n",
    "def CameraInterpolation(p):\n",
    "\n",
    "    file = p + 'RefinementMethodData.h5'\n",
    "    f = h5py.File(file, 'r')\n",
    "    data = f['LensingCore.dat']\n",
    "    \n",
    "    tags = data[:,0]\n",
    "    print(len(tags))\n",
    "    tags = tags.astype(int)\n",
    "    x_pos = data[:,1]\n",
    "    y_pos = data[:,2]\n",
    "    surface = data[:,4]\n",
    "    \n",
    "    tags_fs, kappas = GetFrenetSerretMaxCurvatures(p)\n",
    "    print(min(kappas), max(kappas))\n",
    "    kappas = np.log10(kappas)\n",
    "\n",
    "    fig = plt.figure(figsize=(10,8))\n",
    "    \n",
    "    z = np.array(kappas)\n",
    "    rows = np.array(x_pos) \n",
    "    cols = np.array(y_pos) \n",
    "    \n",
    "    ## Number of points to interpolate to\n",
    "    YY = 1000\n",
    "    XX = 1000\n",
    "    ## number of contours\n",
    "    N_cont = 1000 \n",
    "    ## Bounds for the colobar\n",
    "    cmap = 'jet'\n",
    "    vmin = 3.0\n",
    "    vmax = 3.6\n",
    "    lim = 0.2\n",
    "    ## Bounds for the figure\n",
    "\n",
    "    \n",
    "    xi = np.linspace(0.5 - lim, 0.5 + lim, XX)\n",
    "    yi = np.linspace(0.5 - lim, 0.5 + lim, YY)\n",
    "\n",
    "    GD = scipy.interpolate.griddata((rows, cols), z.ravel(),\n",
    "                          (xi[None,:], yi[:,None]), method='cubic')\n",
    "\n",
    "    CS = plt.contourf(xi,yi,GD,N_cont,cmap = cmap, vmin=vmin, vmax=vmax)\n",
    "\n",
    "    m = plt.cm.ScalarMappable(cmap=cmap)\n",
    "    m.set_array(GD)\n",
    "    m.set_clim(vmin, vmax)\n",
    "    cbar = plt.colorbar(m, boundaries=np.linspace(vmin, vmax, 6), fraction=0.03, pad=0.01,  orientation=\"vertical\")\n",
    "    cbar.set_label(r'Max $\\log_{10} \\kappa$', rotation=-90, labelpad=20)\n",
    "    \n",
    "    plt.xlabel(r'Camera X')\n",
    "    plt.ylabel(r'Camera Y')\n",
    "    plt.tight_layout()\n",
    "    plt.show()"
   ]
  },
  {
   "cell_type": "code",
   "execution_count": null,
   "metadata": {},
   "outputs": [],
   "source": [
    "##CameraInterpolation('Data/TraceHeadOn_0_0_100_150/')"
   ]
  },
  {
   "cell_type": "markdown",
   "metadata": {},
   "source": [
    "## Plot lapse p0"
   ]
  },
  {
   "cell_type": "code",
   "execution_count": null,
   "metadata": {
    "code_folding": [
     0
    ]
   },
   "outputs": [],
   "source": [
    "## Plot the trajectories obtained from the GetTrajectoriesFromH5 executable\n",
    "def PlotLapsep0(p_arr, figname):\n",
    "    \n",
    "    def plot_lapse_file(p, color):\n",
    "        Indices = GetGeodesicIndices(p)\n",
    "        Indices = [0, 1]\n",
    "        for n in Indices:\n",
    "            t, x, y, z, lapse = GetGeodesicTrajectory(p, n)\n",
    "            t, x, y, z, lapse = CutTimesGeodesic(t, x, y, z, lapse, 150, 190)\n",
    "            \n",
    "            dtlapse = np.gradient(lapse, t)\n",
    "            ddtlapse = np.gradient(dtlapse, t)\n",
    "            \n",
    "            plt.plot(t, lapse, lw = 1.0, label = n)\n",
    "            \n",
    "    fig = plt.figure(figsize=(12,8))\n",
    "    \n",
    "    plt.axvline(160.7, ls = '-', color='black', lw = 0.1)\n",
    "    plt.axhline(0.0, ls = '-', color='black', lw = 0.1)\n",
    "    \n",
    "    cs = sns.color_palette('husl', n_colors=len(p_arr))\n",
    "    for p, i in zip(p_arr, range(len(p_arr))):\n",
    "        plot_lapse_file(p, cs[i])\n",
    "\n",
    "    plt.xlabel(r'$t/M$')\n",
    "    plt.ylabel('Log Lapse $p_0$')\n",
    "    #plt.ylabel('d/dt Log Lapse $p_0$')\n",
    "    #plt.ylabel('Log Lapse $p_0$')\n",
    "    #plt.xlim(150, 170)\n",
    "\n",
    "    plt.legend()\n",
    "    plt.tight_layout()\n",
    "    plt.savefig('Histories_' + figname + '.pdf')\n",
    "    plt.show()\n",
    "    \n"
   ]
  },
  {
   "cell_type": "code",
   "execution_count": null,
   "metadata": {},
   "outputs": [],
   "source": [
    "##PlotLapsep0(['Data/TraceHeadOn_0_0_100_319.7/'],'Winding')"
   ]
  },
  {
   "cell_type": "markdown",
   "metadata": {},
   "source": [
    "## Plot volume data"
   ]
  },
  {
   "cell_type": "code",
   "execution_count": null,
   "metadata": {
    "code_folding": [
     0
    ]
   },
   "outputs": [],
   "source": [
    "## Plot the volume data from ApplyObservers\n",
    "\n",
    "def GetVolumeData():\n",
    "    p = '/Users/mokounkova/TracingMerger/Data/HeadOn_Harmonic/JoinedLev2/160.7/'\n",
    "    X = np.array([])\n",
    "    Y = np.array([])\n",
    "    Z = np.array([])\n",
    "    Data = np.array([])\n",
    "    for ff in ['Vars_SphereD0.h5', 'Vars_SphereD1.h5']:\n",
    "        file = p + ff\n",
    "        f = h5py.File(file, 'r')\n",
    "        \n",
    "        x = np.array(f['Coordinates']['Step000000']['x'][:])\n",
    "        y = np.array(f['Coordinates']['Step000000']['y'][:])\n",
    "        z = np.array(f['Coordinates']['Step000000']['z'][:])\n",
    "        data = np.array(f['Psi4']['Step000000']['scalar'][:])\n",
    "        \n",
    "        X = np.concatenate((X, x))\n",
    "        Y = np.concatenate((Y, y))\n",
    "        Z = np.concatenate((Z, z))\n",
    "        Data = np.concatenate((Data, data))\n",
    "    s = 1\n",
    "    return X[::s], Y[::s], Z[::s], Data[::s]\n"
   ]
  },
  {
   "cell_type": "code",
   "execution_count": null,
   "metadata": {
    "code_folding": [
     0
    ]
   },
   "outputs": [],
   "source": [
    "## Plot the volume data from ApplyObservers\n",
    "\n",
    "def PlotVolumeData(p):\n",
    "\n",
    "    def plot_trajectories_file(p):\n",
    "        Indices = [12237, 11126, 10616, 7766, 20986]\n",
    "        for n in Indices[::1]:\n",
    "            t, x, y, z, lapse = GetGeodesicTrajectory(p, n)\n",
    "            #print(t[1:] - t[:-1])\n",
    "            t, x, y, z = CutTimesGeodesic(t, x, y, z, 160.7, 161)\n",
    "            r = sqrt(x**2 + y**2 + z**2)\n",
    "            #print(r)\n",
    "            for i in range(len(t)):\n",
    "                print(\"Geodesic: \", n, \"t: \", t[i], \"x: %.4f y: %.4f z: %.4f\" % (x[i], y[i], z[i]))\n",
    "            for tt, xx, yy, zz in zip(t, x, y, z):\n",
    "                ax.text(xx, yy, zz, str(tt))\n",
    "            \n",
    "            t, x, y, z = GetGeodesicTrajectory(p, n)\n",
    "            #t, x, y, z = CutTimesGeodesic(t, x, y, z, 140, 170)\n",
    "            ax.plot(x, y, z, lw = 0.5, label = n)\n",
    "\n",
    "                \n",
    "    fig = plt.figure(figsize=(12,12))\n",
    "    ax = fig.add_subplot(111, projection='3d')\n",
    "\n",
    "#     x, y, z, Lapse = GetVolumeData()\n",
    "#     cb = ax.scatter(x, y, z, c = Lapse, s=10)\n",
    "#     fig.colorbar(cb)\n",
    "    \n",
    "    plot_trajectories_file(p)\n",
    "        \n",
    "    ax.set_xlabel('Camera X',labelpad=20)\n",
    "    ax.set_ylabel('Camera Y', labelpad=20)\n",
    "    ax.set_zlabel('Camera Z', labelpad=20)\n",
    "    lim = 3.0\n",
    "#     ax.set_xlim(0.3, 0.5)\n",
    "#     ax.set_ylim(-2.0, -1.9)\n",
    "#     ax.set_zlim(0.5, 0.6)\n",
    "    ax.set_xlim(-lim, lim)\n",
    "    ax.set_ylim(-lim, lim)\n",
    "    ax.set_zlim(-lim, lim)\n",
    "\n",
    "\n",
    "    u, v = np.mgrid[0:2*np.pi:20j, 0:np.pi:10j]\n",
    "    R = 2.063450893388303\n",
    "    x = R*np.cos(u)*np.sin(v)\n",
    "    y = R*np.sin(u)*np.sin(v)\n",
    "    z = R*np.cos(v)\n",
    "    ax.plot_wireframe(x, y, z, color=\"r\", linewidth = 0.1)\n",
    "\n",
    "    \n",
    "    \n",
    "    ax.set_axis_off()\n",
    "    \n",
    "    plt.legend()\n",
    "    plt.tight_layout()\n",
    "    plt.show()\n",
    "    \n"
   ]
  },
  {
   "cell_type": "code",
   "execution_count": null,
   "metadata": {
    "code_folding": [
     0
    ]
   },
   "outputs": [],
   "source": [
    "## Plot the trajectories obtained from the GetTrajectoriesFromH5 executable\n",
    "def CoordPartials(p):\n",
    "    \n",
    "    def PlotGradient(t, X, lab):\n",
    "        dX = np.gradient(X, t)\n",
    "        ddX = np.gradient(dX, t)\n",
    "        plt.plot(t, ddX, '-', label = lab, lw = 1.0, markersize=5)\n",
    "        \n",
    "    def PlotGradientSum(t, x, y, z, lab):\n",
    "        dx = np.gradient(x, t)\n",
    "        ddx = np.gradient(dx, t)\n",
    "        \n",
    "        dy = np.gradient(y, t)\n",
    "        ddy = np.gradient(dy, t)\n",
    "        \n",
    "        dz = np.gradient(z, t)\n",
    "        ddz = np.gradient(dz, t)\n",
    "        \n",
    "        plt.plot(t, ddx**2 + ddy**2, ddz**2)\n",
    "    \n",
    "    Indices = [12237, 11126, 10616, 7766, 20986]\n",
    "    \n",
    "    plt.figure(figsize=(10, 6))\n",
    "\n",
    "    plt.xlim(110, 250)\n",
    "    \n",
    "        \n",
    "    for n in Indices:\n",
    "        t, x, y, z = GetGeodesicTrajectory(p, n)\n",
    "        #PlotGradient(t, z, \"Geodesic no. \" + str(n))\n",
    "        PlotGradientSum(t, x, y, z, \"Geodesic no. \" + str(n))\n",
    "\n",
    "    plt.axvline(153.81, color='black', lw=1.0)\n",
    "    plt.axvline(160.7, color='black', lw=1.0)\n",
    "    \n",
    "    plt.xlabel('Coordinate time')\n",
    "    plt.legend()\n",
    "    plt.tight_layout()\n",
    "    plt.show()\n",
    "    "
   ]
  },
  {
   "cell_type": "code",
   "execution_count": null,
   "metadata": {},
   "outputs": [],
   "source": [
    "##CoordPartials('Data/TraceHeadOn_0_0_100_319.7/')"
   ]
  },
  {
   "cell_type": "markdown",
   "metadata": {},
   "source": [
    "## Isotropic sphere distribution"
   ]
  },
  {
   "cell_type": "code",
   "execution_count": null,
   "metadata": {
    "code_folding": [
     0
    ]
   },
   "outputs": [],
   "source": [
    "def SpherePlot():\n",
    "    \n",
    "    fig = plt.figure(figsize=(12,12))\n",
    "    ax = fig.add_subplot(111, projection='3d')\n",
    "    \n",
    "    ## Sphere radius\n",
    "    R = 100\n",
    "    \n",
    "    ## Plot mesh sphere\n",
    "    u, v = np.mgrid[0:2*np.pi:100j, 0:np.pi:100j]\n",
    "    x = R*np.cos(u)*np.sin(v)\n",
    "    y = R*np.sin(u)*np.sin(v)\n",
    "    z = R*np.cos(v)\n",
    "    #ax.plot_wireframe(x, y, z, color=\"blue\", linewidth=0.1)\n",
    "    \n",
    "    \n",
    "    ## Camera coordinates\n",
    "    theta_points = 10\n",
    "    phi_points = 20\n",
    "    \n",
    "    cs = sns.color_palette('husl', n_colors=phi_points)\n",
    "    for u, i in zip(np.linspace(0, 2*pi, phi_points), range(phi_points)):\n",
    "        x = []\n",
    "        y = []\n",
    "        z = []\n",
    "        for v in np.linspace(0, pi, theta_points):\n",
    "            x.append(R*np.cos(u)*np.sin(v))\n",
    "            y.append(R*np.sin(u)*np.sin(v))\n",
    "            z.append(R*np.cos(v))\n",
    "            #print(int(R*np.cos(u)*np.sin(v)), int(R*np.sin(u)*np.sin(v)), int(R*np.cos(v)))\n",
    "        ax.scatter(x, y, z, s=100, color=cs[i])\n",
    "            \n",
    "            \n",
    "        \n",
    "    #u, v = np.mgrid[0:2*np.pi:points, 0:np.pi:points]\n",
    "    #x = R*np.cos(u)*np.sin(v)\n",
    "    #y = R*np.sin(u)*np.sin(v)\n",
    "    #z = R*np.cos(v)\n",
    "    \n",
    "    #ax.plot_wireframe(x, y, z, color=\"b\", linewidth=0.1)\n",
    "    \n",
    "    \n",
    "    ax.set_xlabel('Camera X',labelpad=20)\n",
    "    ax.set_ylabel('Camera Y', labelpad=20)\n",
    "    ax.set_zlabel('Camera Z', labelpad=20)\n",
    "    ax.set_axis_off()\n",
    "    lim = 100\n",
    "    ax.set_xlim(-lim, lim)\n",
    "    ax.set_ylim(-lim, lim)\n",
    "    ax.set_zlim(-lim, lim)\n",
    "    \n",
    "    plt.legend()\n",
    "    plt.tight_layout()\n",
    "    plt.savefig('Sphere.pdf')\n",
    "    plt.show()\n",
    "\n",
    "##SpherePlot()"
   ]
  },
  {
   "cell_type": "markdown",
   "metadata": {},
   "source": [
    "## Paraview file manipulation"
   ]
  },
  {
   "cell_type": "code",
   "execution_count": null,
   "metadata": {
    "code_folding": [
     0,
     1,
     7
    ]
   },
   "outputs": [],
   "source": [
    "## Paraview file manipulation\n",
    "def GetPVDFiles(p):\n",
    "    Files = os.listdir(p + '/Data')\n",
    "    Trim = [file.split('_')[1][:5] for file in Files]\n",
    "    Num = [trim[0] + trim[2:4] + '.' + trim[-1] for trim in Trim]\n",
    "    return Files, Num\n",
    "\n",
    "def WritePVDFile(p):\n",
    "    \"\"\" Write a PVD file for a given set of .vtk files\"\"\"\n",
    "    \n",
    "    f = open(p + '/Data.pvd', 'w')\n",
    "    f.write(\"<VTKFile type=\\\"Collection\\\" version=\\\"0.1\\\" byte_order=\\\"LittleEndian\\\">\\n\")\n",
    "    f.write(\"<Collection>\\n\")\n",
    "    \n",
    "    Files, Num = GetPVDFiles(p)\n",
    "    for file, num in zip(Files, Num):\n",
    "        f.write(\"<DataSet timestep=\\\"\" + num + \"\\\" file=\\\"Data/\"+file+\"\\\" />\\n\")\n",
    "\n",
    "    \n",
    "    f.write(\"</Collection>\\n\")\n",
    "    f.write(\"</VTKFile>\")\n",
    "    f.close()"
   ]
  },
  {
   "cell_type": "code",
   "execution_count": null,
   "metadata": {},
   "outputs": [],
   "source": []
  }
 ],
 "metadata": {
  "kernelspec": {
   "display_name": "Python 3",
   "language": "python",
   "name": "python3"
  },
  "language_info": {
   "codemirror_mode": {
    "name": "ipython",
    "version": 3
   },
   "file_extension": ".py",
   "mimetype": "text/x-python",
   "name": "python",
   "nbconvert_exporter": "python",
   "pygments_lexer": "ipython3",
   "version": "3.7.4"
  }
 },
 "nbformat": 4,
 "nbformat_minor": 2
}
