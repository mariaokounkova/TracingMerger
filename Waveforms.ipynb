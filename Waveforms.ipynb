{
 "cells": [
  {
   "cell_type": "code",
   "execution_count": 3,
   "metadata": {
    "ExecuteTime": {
     "end_time": "2021-03-12T23:32:39.334032Z",
     "start_time": "2021-03-12T23:32:39.326996Z"
    },
    "code_folding": []
   },
   "outputs": [],
   "source": [
    "## imports\n",
    "## %matplotlib qt\n",
    "\n",
    "import matplotlib.pyplot as plt\n",
    "from matplotlib import rc\n",
    "import numpy as np\n",
    "import matplotlib\n",
    "from matplotlib import cm\n",
    "import h5py\n",
    "import os\n",
    "from math import pi, sqrt, atan, degrees\n",
    "from scipy.optimize import curve_fit\n",
    "import scipy\n",
    "import seaborn as sns\n",
    "from mpl_toolkits.mplot3d import Axes3D\n",
    "import time\n",
    "from scipy.interpolate import InterpolatedUnivariateSpline\n",
    "rc('text', usetex=True)\n",
    "import seaborn as sns\n",
    "from os import path\n",
    "from scipy import integrate\n",
    "import scri\n",
    "import quaternion as Q\n",
    "\n",
    "# Plot parameters\n",
    "matplotlib.rcParams['mathtext.fontset'] = 'stix'\n",
    "matplotlib.rcParams['font.family'] = 'STIXGeneral'\n",
    "matplotlib.rcParams['axes.labelsize'] = 24\n",
    "matplotlib.rcParams['xtick.labelsize'] = 30\n",
    "matplotlib.rcParams['ytick.labelsize'] = 30\n",
    "matplotlib.rcParams['xtick.major.size'] = 20\n",
    "matplotlib.rcParams['ytick.major.size'] = 20\n",
    "matplotlib.rcParams['xtick.top'] = True\n",
    "matplotlib.rcParams['xtick.direction'] = 'in'\n",
    "matplotlib.rcParams['xtick.minor.visible'] = True\n",
    "matplotlib.rcParams['xtick.minor.size'] = 10\n",
    "matplotlib.rcParams['ytick.minor.size'] = 10\n",
    "matplotlib.rcParams['legend.fontsize'] = 18\n",
    "matplotlib.rcParams['legend.frameon'] = True\n",
    "matplotlib.rcParams['lines.linewidth'] = 3"
   ]
  },
  {
   "cell_type": "markdown",
   "metadata": {},
   "source": [
    "## Helper functions"
   ]
  },
  {
   "cell_type": "code",
   "execution_count": 12,
   "metadata": {
    "ExecuteTime": {
     "end_time": "2021-03-12T23:37:55.368530Z",
     "start_time": "2021-03-12T23:37:55.356869Z"
    },
    "code_folding": []
   },
   "outputs": [
    {
     "name": "stdout",
     "output_type": "stream",
     "text": [
      "100 14.999718673531294\n",
      "203 7.421124320111974\n",
      "291 5.180652636388944\n",
      "426 3.5401828437036063\n"
     ]
    }
   ],
   "source": [
    "## Data helper functions\n",
    "\n",
    "def CutTimes(time, data, TLow, TUp): \n",
    "    TLowIndex = np.where(time >= TLow)[0][0]\n",
    "    TUpIndex = np.where(time <= TUp)[0][-1]\n",
    "    time = time[TLowIndex:TUpIndex]\n",
    "    data = data[TLowIndex:TUpIndex]\n",
    "    return time, data\n",
    "\n",
    "def CutTimesArray(time, Arr, TLow, TUp): \n",
    "    TLowIndex = np.where(time <= TLow)[0] \n",
    "    if(len(TLowIndex) > 0):\n",
    "        TLowIndex = TLowIndex[-1]\n",
    "    else:\n",
    "        TLowIndex = 0\n",
    "    TUpIndex = np.where(time >= TUp)[0]\n",
    "    if(len(TUpIndex) > 0):\n",
    "        TUpIndex = TUpIndex[0]\n",
    "    else:\n",
    "        TUpIndex = -1\n",
    "        \n",
    "    time = time[TLowIndex:TUpIndex]\n",
    "    Ans = []\n",
    "    for data in Arr:\n",
    "        Ans.append(data[TLowIndex:TUpIndex])\n",
    "    return time, Ans \n",
    "\n",
    "\n",
    "def GetPeakTimeMode(time, data): ###\n",
    "    ## Peak time being the peak of the magnitude of the data\n",
    "    t_peak = time[np.argmax(np.absolute(data))]\n",
    "    return t_peak\n",
    "\n",
    "def GetPeakTimeModeReal(time, data): ###\n",
    "    ## Peak time being the peak of the magnitude of the data\n",
    "    t_peak = time[np.argmax(np.real(data))]\n",
    "    return t_peak\n",
    "\n",
    "def SubtractPeakTimeMode(time, data): ###\n",
    "    t_peak = GetPeakTimeMode(time, data)\n",
    "    return time - t_peak\n",
    "\n",
    "def SubtractPeakTimeModeReal(time, data): ###\n",
    "    t_peak = GetPeakTimeModeReal(time, data)\n",
    "    return time - t_peak\n",
    "\n",
    "def InterpolateTimes(time, data, time_dest):\n",
    "    \"\"\" Interpolates time, data onto new time axis\n",
    "        time_dest \"\"\"\n",
    "    interpolant = scipy.interpolate.CubicSpline(time, data)\n",
    "    return interpolant(time_dest)\n",
    "\n",
    "def ComputeAperatureAngle(Radius):\n",
    "    \"\"\" Compute the aperature angle \"\"\"\n",
    "    Distance = 26.33 # The distance we're using for this head-on run\n",
    "    alpha = 2.0 * atan(Distance/(2*Radius))\n",
    "    return degrees(alpha)\n",
    "\n",
    "for r in [100, 203, 291, 426]:\n",
    "    print(r, ComputeAperatureAngle(r))\n",
    "\n",
    "#ComputeAperatureAngle(157)"
   ]
  },
  {
   "cell_type": "markdown",
   "metadata": {},
   "source": [
    "## Read and plot GW data"
   ]
  },
  {
   "cell_type": "code",
   "execution_count": 5,
   "metadata": {
    "ExecuteTime": {
     "end_time": "2021-03-12T23:32:45.088857Z",
     "start_time": "2021-03-12T23:32:45.075974Z"
    },
    "code_folding": [
     2,
     9,
     47,
     61
    ]
   },
   "outputs": [],
   "source": [
    "## Data reading functions\n",
    "\n",
    "def GetWaveformRadius(p, rad):\n",
    "    psi4_file = p + 'GW2/rPsi4_FiniteRadii_CodeUnits.h5'\n",
    "    f = h5py.File(psi4_file, 'r')\n",
    "    radius = sorted(f.keys())[rad]\n",
    "    coord_radius = f[radius]['CoordRadius.dat'][0][1]\n",
    "    return coord_radius\n",
    "    \n",
    "def GetWaveformRadiusString(p, rad):\n",
    "    psi4_file = p + 'GW2/rPsi4_FiniteRadii_CodeUnits.h5'\n",
    "    f = h5py.File(psi4_file, 'r')\n",
    "    radius = sorted(f.keys())\n",
    "    return radius[rad]\n",
    "\n",
    "def GetPsi4Mode(p, mode, radius=-1): \n",
    " \n",
    "    file = p + 'GW2/rPsi4_FiniteRadii_CodeUnits.h5/' + GetWaveformRadiusString(p, radius)\n",
    "    \n",
    "    h = scri.SpEC.read_from_h5(file, dataType = scri.h, \\\n",
    "            frameType = scri.Inertial, r_is_scaled_out = True, m_is_scaled_out = False,)\n",
    "    R = Q.from_spherical_coords(np.pi/2,0)\n",
    "    h = h.rotate_decomposition_basis(R)\n",
    "        \n",
    "    time = h.t\n",
    "    data = h.data[:,h.index(mode[0],mode[1])]\n",
    "\n",
    "    return time, data\n",
    "\n",
    "def GetStrainFromPsi4Mode(p, mode, radius=-1): \n",
    " \n",
    "    file = p + 'GW2/rPsi4_FiniteRadii_CodeUnits.h5/' + GetWaveformRadiusString(p, radius)\n",
    "    \n",
    "    h = scri.SpEC.read_from_h5(file, dataType = scri.h, \\\n",
    "            frameType = scri.Inertial, r_is_scaled_out = True, m_is_scaled_out = False,)\n",
    "    R = Q.from_spherical_coords(np.pi/2,0)\n",
    "    h = h.rotate_decomposition_basis(R)\n",
    "        \n",
    "    strain = h.data_iint\n",
    "    \n",
    "    data = strain[:,h.index(mode[0],mode[1])]\n",
    "    print(data)\n",
    "\n",
    "    return time, data\n",
    "\n",
    "def GetStrainMode(p, mode, radius=-1): \n",
    "        \n",
    "    file = p + 'GW2/rh_FiniteRadii_CodeUnits.h5/' + GetWaveformRadiusString(p, radius)\n",
    "\n",
    "    h = scri.SpEC.read_from_h5(file, dataType = scri.h, \\\n",
    "        frameType = scri.Inertial, r_is_scaled_out = True, m_is_scaled_out = False,)\n",
    "\n",
    "    R = Q.from_spherical_coords(np.pi/2,0)\n",
    "    h = h.rotate_decomposition_basis(R)\n",
    "    time = h.t\n",
    "    result = h.data[:,h.index(mode[0],mode[1])]\n",
    "    \n",
    "    return time, result\n",
    "\n",
    "def GetCCEWaveform(p, rad): \n",
    "    h_file = p + 'CCE/CharacteristicExtractVolume0_' + rad +'.h5' \n",
    "    \n",
    "    f = h5py.File(h_file, 'r')\n",
    "    print(f.keys())\n",
    "    data = f['Strain.dat']\n",
    "    \n",
    "    def lm_index(l, m):\n",
    "        return 2 * (l**2 + l + m) + 1\n",
    "\n",
    "    index = lm_index(2,2)\n",
    "    print(index)\n",
    "    time = data[:,0]\n",
    "    real = data[:,index]\n",
    "    imag = data[:,index+1]\n",
    "    mode = real + 1j*imag\n",
    "    return time, mode\n",
    "\n"
   ]
  },
  {
   "cell_type": "code",
   "execution_count": null,
   "metadata": {
    "ExecuteTime": {
     "end_time": "2021-03-10T23:06:51.152779Z",
     "start_time": "2021-03-10T23:06:51.056176Z"
    },
    "code_folding": [
     0
    ]
   },
   "outputs": [],
   "source": [
    "## Testing\n",
    "p = 'Data/JoinedLev2/'\n",
    "rad = '100'\n",
    "h_file = p + 'CCE/CharacteristicExtractVolume0_' + rad +'.h5' \n",
    "f = h5py.File(h_file, 'r')\n",
    "cce_data = f['Strain.dat']\n",
    "time = cce_data[:,0]\n",
    "\n",
    "\n",
    "def lm_index(l, m):\n",
    "    return 2 * (l**2 + l + m) + 1\n",
    "\n",
    "def get_cce_mode(mode):\n",
    "    \n",
    "    index = lm_index(mode[0], mode[1])\n",
    "    \n",
    "    real = cce_data[:,index]\n",
    "    imag = cce_data[:,index+1]\n",
    "    data = real + 1j*imag\n",
    "    return time, mode\n",
    "\n",
    "\n",
    "\n",
    "h = scri.WaveformModes(\n",
    "    dataType = scri.h,\n",
    "    ell_min = 2,\n",
    "    ell_max = 8,\n",
    "    data = cce_data,\n",
    "    time = time, # Or it might be t=\n",
    "    frameType = scri.Inertial,\n",
    "    r_is_scaled_out = True,\n",
    "    m_is_scaled_out = False,\n",
    ")"
   ]
  },
  {
   "cell_type": "markdown",
   "metadata": {
    "heading_collapsed": true
   },
   "source": [
    "## Plot dominant modes"
   ]
  },
  {
   "cell_type": "code",
   "execution_count": 159,
   "metadata": {
    "ExecuteTime": {
     "end_time": "2021-03-11T23:34:21.895416Z",
     "start_time": "2021-03-11T23:34:20.561392Z"
    },
    "hidden": true
   },
   "outputs": [
    {
     "name": "stdout",
     "output_type": "stream",
     "text": [
      "[  0.        +0.00000000e+00j  78.4447905 +1.11106316e-07j\n",
      "  78.52983337+1.11228976e-07j ... 751.2242711 +1.08354532e-06j\n",
      " 751.30912338+1.08366796e-06j 751.39397566+1.08379060e-06j]\n"
     ]
    },
    {
     "data": {
      "image/png": "[encoded data removed]",
      "text/plain": [
       "<Figure size 1008x576 with 1 Axes>"
      ]
     },
     "metadata": {
      "needs_background": "light"
     },
     "output_type": "display_data"
    }
   ],
   "source": [
    "def PlotDominantModes(p):\n",
    "    ## Run Progress\n",
    "    plt.figure(figsize=(14, 8))\n",
    "\n",
    "    modes =[(2,0)] #,(2,-2), (2,-1), (2,0), (2,1), (2,2) ]\n",
    "    #modes = [(4,4),(4,3),(4,2),(4,1),(4,0)]\n",
    "    #modes = [(3,0), (4,0), (5,0), (6,0), (7,0), (8,0)]\n",
    "    \n",
    "    rad = 8\n",
    "\n",
    "    cs = sns.color_palette('husl', n_colors=len(modes))\n",
    "\n",
    "    for mode, i in zip(modes, range(len(modes))):\n",
    "        \n",
    "        time, data = GetStrainFromPsi4Mode(p, mode, radius=rad)\n",
    "\n",
    "        #plt.plot(time, np.real(data), label=mode, color=cs[i])\n",
    "        #plt.plot(time, np.imag(data), '--', color=cs[i])\n",
    "        plt.plot(time, np.absolute(data), label=mode) #, color=cs[i])\n",
    "\n",
    "    plt.xlabel(r'Coodinate time $t/M$')\n",
    "    plt.ylabel(r'$rh$', fontsize=30)\n",
    "    legend = plt.legend(title='Mode', fontsize=20, framealpha=1.0)\n",
    "    plt.setp(legend.get_title(),fontsize=20)\n",
    "    #plt.xlim(-10, 900)\n",
    "    plt.yscale('log')\n",
    "    plt.tight_layout()\n",
    "    #plt.savefig('RadiiPeaks.pdf')\n",
    "    plt.show()\n",
    "    \n",
    "\n",
    "PlotDominantModes('Data/JoinedLev2/')"
   ]
  },
  {
   "cell_type": "markdown",
   "metadata": {},
   "source": [
    "## Plot strain and CCE radii"
   ]
  },
  {
   "cell_type": "code",
   "execution_count": 10,
   "metadata": {
    "ExecuteTime": {
     "end_time": "2021-03-12T23:36:14.306004Z",
     "start_time": "2021-03-12T23:36:13.396919Z"
    },
    "code_folding": [
     1,
     57
    ],
    "scrolled": false
   },
   "outputs": [
    {
     "data": {
      "image/png": "[encoded data removed]",
      "text/plain": [
       "<Figure size 1008x576 with 1 Axes>"
      ]
     },
     "metadata": {
      "needs_background": "light"
     },
     "output_type": "display_data"
    }
   ],
   "source": [
    "## Plot CCE waveform strain at various radii\n",
    "def PlotRadiiCCE(p):\n",
    "    ## Run Progress\n",
    "    plt.figure(figsize=(12, 8))\n",
    " \n",
    "    radii = ['100', '273', '447', '620']\n",
    "    cs = sns.color_palette('husl', n_colors=len(radii))\n",
    "    \n",
    "    for rad, color in zip(radii, cs):\n",
    "        time, data = GetCCEWaveform(p, rad)\n",
    "        tt = GetPeakTimeMode(time, np.absolute(data))\n",
    "        plt.plot(time, np.real(data), color=color, label=rad +', %.1f' % (tt))\n",
    "        plt.plot(time, np.imag(data), '--', color=color)\n",
    "    \n",
    "    plt.xlabel(r'Coodinate time $t/M$')\n",
    "    plt.ylabel(r'CCE $h$', fontsize=30)\n",
    "    legend = plt.legend(loc='lower right', title='Extraction radius, peak time', fontsize=20, framealpha=1.0)\n",
    "    plt.setp(legend.get_title(),fontsize=20)\n",
    "    #plt.xlim(min(time), min(time) + 400)\n",
    "    plt.tight_layout()\n",
    "    plt.savefig('CCERadiiStrain.pdf')\n",
    "    plt.show()\n",
    "    \n",
    "def PlotRadiiGW(p, psi4=False):\n",
    "    ## Run Progress\n",
    "    plt.figure(figsize=(14, 8))\n",
    "\n",
    "    mode = (2,0)\n",
    "    \n",
    "    #radii = [0, 15, 20, 22, 23]\n",
    "    #radii = [0, 17, 21, 23]\n",
    "    radii = [0, 2, 4, 6]\n",
    "    radii = [14, 18, 21]\n",
    "    cs = sns.color_palette('husl', n_colors=len(radii))\n",
    "\n",
    "    for rad, i in zip(radii, range(len(radii))):\n",
    "\n",
    "        radius = int(GetWaveformRadius(p, rad))\n",
    "        \n",
    "        if psi4: \n",
    "            time, data = GetPsi4Mode(p, mode, radius=rad)\n",
    "        else:\n",
    "            time, data = GetStrainMode(p, mode, radius=rad)\n",
    "        \n",
    "        tt = GetPeakTimeMode(time,np.absolute(data))\n",
    "        plt.plot(time, np.real(data), label='%.1f, %.1f' % (radius, tt), color=cs[i])\n",
    "        plt.plot(time, np.imag(data), '--', color=cs[i])\n",
    "\n",
    "    plt.xlabel(r'Coodinate time $t/M$')\n",
    "    plt.ylabel(r'$r\\psi_4$' + str(mode) if psi4 else r'$rh$' + str(mode), fontsize=30)\n",
    "    legend = plt.legend(title='Extraction radius, peak time', fontsize=20, framealpha=1.0)\n",
    "    plt.setp(legend.get_title(),fontsize=20)\n",
    "    #plt.xlim(-10, 400)\n",
    "    plt.tight_layout()\n",
    "    plt.savefig('RadiiPeaks.pdf')\n",
    "    plt.show()\n",
    "    \n",
    "def PlotPeakTimes(p):\n",
    "    \n",
    "    plt.figure(figsize=(8, 8))\n",
    "    \n",
    "    ## Strain times\n",
    "    rads = range(24)\n",
    "    peak_times = []\n",
    "    radii = []\n",
    "    \n",
    "    for rad in rads:\n",
    "        radius = int(GetWaveformRadius(p, rad))\n",
    "        time, data = GetStrainMode(p, (2,0), radius=rad)\n",
    "        tt = GetPeakTimeMode(time,np.absolute(data))\n",
    "        peak_times.append(tt)\n",
    "        radii.append(radius)\n",
    "        \n",
    "    plt.plot(radii, peak_times, '-o', color='pink', alpha=0.5, label='RWZ')\n",
    "    print(radii)\n",
    "    \n",
    "    ## CCE times\n",
    "    cce_rads = [100, 273, 447, 620]\n",
    "    cce_peak_times = []\n",
    "    for rad in cce_rads:\n",
    "        time, data = GetCCEWaveform(p, str(rad))\n",
    "        tt = GetPeakTimeMode(time, np.absolute(data))\n",
    "        cce_peak_times.append(tt)\n",
    "    \n",
    "    plt.plot(cce_rads, cce_peak_times, 'o', markersize = 10, color='red', alpha=0.5, label='CCE')\n",
    "    \n",
    "    plt.legend()\n",
    "    plt.xlabel('Extraction Radius [M]')\n",
    "    plt.ylabel('$h$ Peak Time [M]')\n",
    "    plt.tight_layout()\n",
    "    plt.show()\n",
    "    \n",
    "    \n",
    "PlotRadiiGW('Data/JoinedLev2/')\n",
    "#PlotRadiiGW('Data/JoinedLev2/', psi4 = True)\n",
    "#PlotRadiiCCE('Data/JoinedLev2/')\n",
    "#PlotPeakTimes('Data/JoinedLev2/')"
   ]
  },
  {
   "cell_type": "code",
   "execution_count": 9,
   "metadata": {
    "ExecuteTime": {
     "end_time": "2021-03-12T23:35:37.793358Z",
     "start_time": "2021-03-12T23:35:37.739671Z"
    }
   },
   "outputs": [
    {
     "name": "stdout",
     "output_type": "stream",
     "text": [
      "0 100.0\n",
      "1 103.0\n",
      "2 106.99999999999999\n",
      "3 111.99999999999999\n",
      "4 116.99999999999999\n",
      "5 121.99999999999999\n",
      "6 128.0\n",
      "7 134.0\n",
      "8 141.0\n",
      "9 148.0\n",
      "10 157.0\n",
      "11 166.0\n",
      "12 177.0\n",
      "13 190.0\n",
      "14 203.99999999999997\n",
      "15 220.0\n",
      "16 240.0\n",
      "17 263.0\n",
      "18 291.0\n",
      "19 325.0\n",
      "20 369.0\n",
      "21 426.00000000000006\n",
      "22 505.0\n"
     ]
    }
   ],
   "source": [
    "p = 'Data/JoinedLev2/'\n",
    "for rad in range(23):\n",
    "    print(rad, GetWaveformRadius(p, rad))"
   ]
  },
  {
   "cell_type": "markdown",
   "metadata": {},
   "source": [
    "## Isotropic sphere distribution"
   ]
  },
  {
   "cell_type": "code",
   "execution_count": null,
   "metadata": {
    "code_folding": [
     0,
     1
    ]
   },
   "outputs": [],
   "source": [
    "## Isotropic sphere plot\n",
    "def SpherePlot():\n",
    "    \n",
    "    fig = plt.figure(figsize=(12,12))\n",
    "    ax = fig.add_subplot(111, projection='3d')\n",
    "    \n",
    "    ## Sphere radius\n",
    "    R = 100\n",
    "    \n",
    "    ## Plot mesh sphere\n",
    "    u, v = np.mgrid[0:2*np.pi:100j, 0:np.pi:100j]\n",
    "    x = R*np.cos(u)*np.sin(v)\n",
    "    y = R*np.sin(u)*np.sin(v)\n",
    "    z = R*np.cos(v)\n",
    "    #ax.plot_wireframe(x, y, z, color=\"blue\", linewidth=0.1)\n",
    "    \n",
    "    \n",
    "    ## Camera coordinates\n",
    "    theta_points = 10\n",
    "    phi_points = 20\n",
    "    \n",
    "    cs = sns.color_palette('husl', n_colors=phi_points)\n",
    "    for u, i in zip(np.linspace(0, 2*pi, phi_points), range(phi_points)):\n",
    "        x = []\n",
    "        y = []\n",
    "        z = []\n",
    "        for v in np.linspace(0, pi, theta_points):\n",
    "            x.append(R*np.cos(u)*np.sin(v))\n",
    "            y.append(R*np.sin(u)*np.sin(v))\n",
    "            z.append(R*np.cos(v))\n",
    "            #print(int(R*np.cos(u)*np.sin(v)), int(R*np.sin(u)*np.sin(v)), int(R*np.cos(v)))\n",
    "        ax.scatter(x, y, z, s=100, color=cs[i])\n",
    "            \n",
    "            \n",
    "        \n",
    "    #u, v = np.mgrid[0:2*np.pi:points, 0:np.pi:points]\n",
    "    #x = R*np.cos(u)*np.sin(v)\n",
    "    #y = R*np.sin(u)*np.sin(v)\n",
    "    #z = R*np.cos(v)\n",
    "    \n",
    "    #ax.plot_wireframe(x, y, z, color=\"b\", linewidth=0.1)\n",
    "    \n",
    "    \n",
    "    ax.set_xlabel('Camera X',labelpad=20)\n",
    "    ax.set_ylabel('Camera Y', labelpad=20)\n",
    "    ax.set_zlabel('Camera Z', labelpad=20)\n",
    "    ax.set_axis_off()\n",
    "    lim = 100\n",
    "    ax.set_xlim(-lim, lim)\n",
    "    ax.set_ylim(-lim, lim)\n",
    "    ax.set_zlim(-lim, lim)\n",
    "    \n",
    "    plt.legend()\n",
    "    plt.tight_layout()\n",
    "    plt.savefig('Sphere.pdf')\n",
    "    plt.show()\n",
    "\n",
    "##SpherePlot()"
   ]
  },
  {
   "cell_type": "code",
   "execution_count": null,
   "metadata": {},
   "outputs": [],
   "source": []
  },
  {
   "cell_type": "code",
   "execution_count": null,
   "metadata": {},
   "outputs": [],
   "source": []
  },
  {
   "cell_type": "code",
   "execution_count": null,
   "metadata": {},
   "outputs": [],
   "source": []
  }
 ],
 "metadata": {
  "kernelspec": {
   "display_name": "Python 3",
   "language": "python",
   "name": "python3"
  },
  "language_info": {
   "codemirror_mode": {
    "name": "ipython",
    "version": 3
   },
   "file_extension": ".py",
   "mimetype": "text/x-python",
   "name": "python",
   "nbconvert_exporter": "python",
   "pygments_lexer": "ipython3",
   "version": "3.7.4"
  },
  "toc": {
   "base_numbering": 1,
   "nav_menu": {},
   "number_sections": true,
   "sideBar": true,
   "skip_h1_title": false,
   "title_cell": "Table of Contents",
   "title_sidebar": "Contents",
   "toc_cell": false,
   "toc_position": {},
   "toc_section_display": true,
   "toc_window_display": true
  }
 },
 "nbformat": 4,
 "nbformat_minor": 2
}
